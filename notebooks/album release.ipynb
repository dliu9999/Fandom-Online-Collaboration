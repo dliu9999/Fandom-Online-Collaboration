{
 "cells": [
  {
   "cell_type": "code",
   "execution_count": 3,
   "metadata": {},
   "outputs": [],
   "source": [
    "import wikipedia\n",
    "import pandas as pd\n",
    "import numpy as np\n",
    "import os\n",
    "import sys\n",
    "from bs4 import BeautifulSoup\n",
    "from datetime import datetime, timedelta\n",
    "import matplotlib.pyplot as plt\n"
   ]
  },
  {
   "cell_type": "code",
   "execution_count": 4,
   "metadata": {},
   "outputs": [],
   "source": [
    "sys.path.insert(0, '../src/data')\n",
    "from etl import *\n",
    "\n",
    "def xml_to_soup(fp):\n",
    "    '''\n",
    "    Processes xml data using beautiful soup and\n",
    "    returns list of data for each page\n",
    "    '''\n",
    "    content = []\n",
    "    with open(fp, encoding = 'utf8') as file:\n",
    "\n",
    "        content = file.readlines()\n",
    "        content = \"\".join(content)\n",
    "        soup = BeautifulSoup(content, \"xml\")\n",
    "        \n",
    "    pages = soup.findAll(\"page\")\n",
    "    return pages\n",
    "\n",
    "def soup_to_df(pages):\n",
    "    '''\n",
    "    Converts soupified xml data for Wiki pages \n",
    "    into dataframe\n",
    "    \n",
    "    pages: list of xml data for each page\n",
    "    '''\n",
    "    data = {}\n",
    "    for page in pages:\n",
    "        title = page.title.text\n",
    "        revisions = page.findAll(\"revision\")\n",
    "\n",
    "        for revision in revisions:\n",
    "            r_id = revision.id.text \n",
    "            time = revision.timestamp.text\n",
    "            try:\n",
    "                try:\n",
    "                    username = revision.contributor.username.text\n",
    "                except: \n",
    "                    username = revision.contributor.ip.text\n",
    "            except:\n",
    "                username = 'N/A'\n",
    "            text = revision.format.next_sibling.next_sibling.text\n",
    "            if title in data:\n",
    "                data[title].append([title, r_id, time, username, text])\n",
    "            else:\n",
    "                data[title] = [[title, r_id, time, username, text]]\n",
    "    \n",
    "    dframes = []\n",
    "    for page in data:\n",
    "\n",
    "        df = pd.DataFrame(data[page], columns = ['title', 'id', 'time', 'username', 'text'])\n",
    "\n",
    "        hist = [] #history of text\n",
    "        version = [] #edit version\n",
    "        username = []\n",
    "        revert = [] #0 or 1\n",
    "        curr = 1 #to keep track of version\n",
    "\n",
    "        for idx, row in df.iterrows():\n",
    "            if row.text not in hist: # not a revert\n",
    "                hist.append(row.text)\n",
    "                version.append(curr)\n",
    "                username.append(row.username)\n",
    "                revert.append('0')\n",
    "                curr += 1\n",
    "            else: #is revert\n",
    "                temp = hist.index(row.text)\n",
    "                version.append(version[temp])\n",
    "                username.append(row.username)\n",
    "\n",
    "                #if self revert\n",
    "                if row.username == username[version[temp]]:\n",
    "                    revert.append('0')\n",
    "                else:\n",
    "                    revert.append('1')\n",
    "\n",
    "\n",
    "        df['version'] = version\n",
    "        df['revert'] = revert\n",
    "        dframes.append(df)\n",
    "\n",
    "    return dframes\n",
    "\n",
    "def df_to_ld(dframes, outpath):\n",
    "    '''\n",
    "    Given a list of cleaned dataframes from xml data,\n",
    "    produces light dump file into data/raw\n",
    "    '''\n",
    "    \n",
    "    light_dump = ''\n",
    "    for df in dframes:\n",
    "        title = df.title[0]\n",
    "        light_dump = light_dump + title + '\\n'\n",
    "        for idx, row in df.iterrows():\n",
    "            line = '^^^_' + row.time + ' ' + row.revert + ' ' + str(row.version) + ' ' + row.username\n",
    "            light_dump = light_dump + line + '\\n'\n",
    "    with open(outpath, 'w') as f:\n",
    "        f.write(light_dump)\n",
    "    repo = 'XML Converted to light dump at ' + outpath\n",
    "    print(repo)\n",
    "    \n",
    "    return\n",
    "\n",
    "def xml_to_light_dump(fp, outfp):\n",
    "    '''\n",
    "    Given an input file path and output path, \n",
    "    turns the xml file into a light dump \n",
    "    and stores it at the output file path\n",
    "    '''\n",
    "    #create light dump directory first\n",
    "    if not os.path.isdir(\"../data/raw/light_dump\"):\n",
    "        os.mkdir(\"../data/raw/light_dump\")\n",
    "    \n",
    "    #convert to light dump\n",
    "    soup = xml_to_soup(fp)\n",
    "    dframes = soup_to_df(soup)\n",
    "    return df_to_ld(dframes, outfp)"
   ]
  },
  {
   "cell_type": "code",
   "execution_count": 5,
   "metadata": {},
   "outputs": [
    {
     "name": "stdout",
     "output_type": "stream",
     "text": [
      "XML Converted to light dump at ../data/raw/light_dump/bts_albums.txt\n"
     ]
    }
   ],
   "source": [
    "fp = \"../data/raw/BTS-albums.xml\"\n",
    "outfp = \"../data/raw/light_dump/bts_albums.txt\"\n",
    "\n",
    "xml_to_light_dump(fp, outfp)\n"
   ]
  },
  {
   "cell_type": "markdown",
   "metadata": {},
   "source": [
    "### Album release dates\n",
    "\n",
    "1. Dark & Wild: August 19, 2014\n",
    "2. Wings: October 10, 2016\n",
    "3. Love Yourself: Tears: May 18, 2018\n",
    "4. Map of the Soul: 7: February 21, 2020\n",
    "5. Be: November 20, 2020"
   ]
  },
  {
   "cell_type": "code",
   "execution_count": 6,
   "metadata": {},
   "outputs": [],
   "source": [
    "#get range\n",
    "def date_range(release_date):\n",
    "    '''\n",
    "    Given a string with the album release date,\n",
    "    calculates the given time range to extract data from\n",
    "    '''\n",
    "    date = pd.to_datetime(release_date)\n",
    "    start = date - timedelta(days=2)\n",
    "    end = date + timedelta(days = 14)\n",
    "    return start, end\n",
    "    "
   ]
  },
  {
   "cell_type": "code",
   "execution_count": 7,
   "metadata": {},
   "outputs": [],
   "source": [
    "start, end = date_range(\"August 19, 2014\")"
   ]
  },
  {
   "cell_type": "code",
   "execution_count": 8,
   "metadata": {},
   "outputs": [],
   "source": [
    "def lightdump_read_n(fp, n = 100):\n",
    "    '''\n",
    "\tReads in n lightdump pages and returns a list of all titles \n",
    "    read and their corresponding data as a DataFrame\n",
    "\t:param fp: input filepath\n",
    "\t:param n: number of articles to read\n",
    "\t:return: list of article titles, list of corresponding article lightdump data as DataFrame\n",
    "\t'''\n",
    "    titles = []\n",
    "    dataframes = []\n",
    "\n",
    "    with open(fp) as file:\n",
    "        df = pd.DataFrame(columns = ['timestamp', 'revert', 'revision_id', 'user'])\n",
    "        page = 0\n",
    "        for line in file:\n",
    "            if '^^^_' not in line:\n",
    "                title = line.strip('\\n').strip()\n",
    "                titles.append(title)\n",
    "\n",
    "                if title != titles[page]:\n",
    "                    page += 1\n",
    "                    \n",
    "                    df['timestamp'] = pd.to_datetime(df['timestamp'])\n",
    "                    \n",
    "                    dataframes.append(df)\n",
    "                    \n",
    "                    df = pd.DataFrame(columns = ['timestamp', 'revert', 'revision_id', 'user'])\n",
    "\n",
    "                    if page == n:\n",
    "                        break\n",
    "            else:\n",
    "                data = line.strip(\"^^^_\").strip('\\n').split()\n",
    "                row = pd.Series(dtype = 'object')\n",
    "\n",
    "                row['timestamp'] = data[0]\n",
    "                row['revert'] = int(data[1])\n",
    "                row['revision_id'] = int(data[2])\n",
    "                row['user'] = data[3]\n",
    "\n",
    "                df = df.append(row, ignore_index = True)\n",
    "    dataframes.append(df)\n",
    "\n",
    "    return [titles, dataframes]"
   ]
  },
  {
   "cell_type": "code",
   "execution_count": 9,
   "metadata": {},
   "outputs": [],
   "source": [
    "#Check bts album time series data\n",
    "fp = \"../data/raw/light_dump/bts_albums.txt\"\n",
    "titles, dfs = lightdump_read_n(fp, 5)\n"
   ]
  },
  {
   "cell_type": "markdown",
   "metadata": {},
   "source": [
    "### Album: Dark & Wild"
   ]
  },
  {
   "cell_type": "code",
   "execution_count": 10,
   "metadata": {},
   "outputs": [
    {
     "data": {
      "text/plain": [
       "'Dark & Wild'"
      ]
     },
     "execution_count": 10,
     "metadata": {},
     "output_type": "execute_result"
    }
   ],
   "source": [
    "titles[0]"
   ]
  },
  {
   "cell_type": "code",
   "execution_count": 11,
   "metadata": {},
   "outputs": [
    {
     "data": {
      "text/html": [
       "<div>\n",
       "<style scoped>\n",
       "    .dataframe tbody tr th:only-of-type {\n",
       "        vertical-align: middle;\n",
       "    }\n",
       "\n",
       "    .dataframe tbody tr th {\n",
       "        vertical-align: top;\n",
       "    }\n",
       "\n",
       "    .dataframe thead th {\n",
       "        text-align: right;\n",
       "    }\n",
       "</style>\n",
       "<table border=\"1\" class=\"dataframe\">\n",
       "  <thead>\n",
       "    <tr style=\"text-align: right;\">\n",
       "      <th></th>\n",
       "      <th>timestamp</th>\n",
       "      <th>revert</th>\n",
       "      <th>revision_id</th>\n",
       "      <th>user</th>\n",
       "    </tr>\n",
       "  </thead>\n",
       "  <tbody>\n",
       "    <tr>\n",
       "      <th>0</th>\n",
       "      <td>2014-11-12 17:21:59+00:00</td>\n",
       "      <td>0</td>\n",
       "      <td>1</td>\n",
       "      <td>Htruc</td>\n",
       "    </tr>\n",
       "    <tr>\n",
       "      <th>1</th>\n",
       "      <td>2014-11-12 17:33:23+00:00</td>\n",
       "      <td>0</td>\n",
       "      <td>2</td>\n",
       "      <td>Starcheerspeaksnewslostwars</td>\n",
       "    </tr>\n",
       "    <tr>\n",
       "      <th>2</th>\n",
       "      <td>2014-11-12 17:33:55+00:00</td>\n",
       "      <td>0</td>\n",
       "      <td>3</td>\n",
       "      <td>Starcheerspeaksnewslostwars</td>\n",
       "    </tr>\n",
       "    <tr>\n",
       "      <th>3</th>\n",
       "      <td>2014-11-12 18:43:50+00:00</td>\n",
       "      <td>0</td>\n",
       "      <td>4</td>\n",
       "      <td>Karlhard</td>\n",
       "    </tr>\n",
       "    <tr>\n",
       "      <th>4</th>\n",
       "      <td>2014-11-12 18:46:06+00:00</td>\n",
       "      <td>0</td>\n",
       "      <td>5</td>\n",
       "      <td>Karlhard</td>\n",
       "    </tr>\n",
       "  </tbody>\n",
       "</table>\n",
       "</div>"
      ],
      "text/plain": [
       "                  timestamp revert revision_id                         user\n",
       "0 2014-11-12 17:21:59+00:00      0           1                        Htruc\n",
       "1 2014-11-12 17:33:23+00:00      0           2  Starcheerspeaksnewslostwars\n",
       "2 2014-11-12 17:33:55+00:00      0           3  Starcheerspeaksnewslostwars\n",
       "3 2014-11-12 18:43:50+00:00      0           4                     Karlhard\n",
       "4 2014-11-12 18:46:06+00:00      0           5                     Karlhard"
      ]
     },
     "execution_count": 11,
     "metadata": {},
     "output_type": "execute_result"
    }
   ],
   "source": [
    "dfs[0].head()"
   ]
  },
  {
   "cell_type": "markdown",
   "metadata": {},
   "source": [
    "### Album: Be"
   ]
  },
  {
   "cell_type": "code",
   "execution_count": 12,
   "metadata": {},
   "outputs": [
    {
     "data": {
      "text/plain": [
       "'Be (BTS album)'"
      ]
     },
     "execution_count": 12,
     "metadata": {},
     "output_type": "execute_result"
    }
   ],
   "source": [
    "titles[4]"
   ]
  },
  {
   "cell_type": "code",
   "execution_count": 13,
   "metadata": {},
   "outputs": [
    {
     "data": {
      "text/html": [
       "<div>\n",
       "<style scoped>\n",
       "    .dataframe tbody tr th:only-of-type {\n",
       "        vertical-align: middle;\n",
       "    }\n",
       "\n",
       "    .dataframe tbody tr th {\n",
       "        vertical-align: top;\n",
       "    }\n",
       "\n",
       "    .dataframe thead th {\n",
       "        text-align: right;\n",
       "    }\n",
       "</style>\n",
       "<table border=\"1\" class=\"dataframe\">\n",
       "  <thead>\n",
       "    <tr style=\"text-align: right;\">\n",
       "      <th></th>\n",
       "      <th>timestamp</th>\n",
       "      <th>revert</th>\n",
       "      <th>revision_id</th>\n",
       "      <th>user</th>\n",
       "    </tr>\n",
       "  </thead>\n",
       "  <tbody>\n",
       "    <tr>\n",
       "      <th>0</th>\n",
       "      <td>2020-09-27T15:37:41Z</td>\n",
       "      <td>0</td>\n",
       "      <td>1</td>\n",
       "      <td>Lirim.Z</td>\n",
       "    </tr>\n",
       "    <tr>\n",
       "      <th>1</th>\n",
       "      <td>2020-09-27T15:40:52Z</td>\n",
       "      <td>0</td>\n",
       "      <td>2</td>\n",
       "      <td>Lirim.Z</td>\n",
       "    </tr>\n",
       "    <tr>\n",
       "      <th>2</th>\n",
       "      <td>2020-09-27T15:41:31Z</td>\n",
       "      <td>0</td>\n",
       "      <td>3</td>\n",
       "      <td>Lirim.Z</td>\n",
       "    </tr>\n",
       "    <tr>\n",
       "      <th>3</th>\n",
       "      <td>2020-09-27T15:41:46Z</td>\n",
       "      <td>0</td>\n",
       "      <td>4</td>\n",
       "      <td>Lirim.Z</td>\n",
       "    </tr>\n",
       "    <tr>\n",
       "      <th>4</th>\n",
       "      <td>2020-09-27T15:43:51Z</td>\n",
       "      <td>0</td>\n",
       "      <td>5</td>\n",
       "      <td>Lirim.Z</td>\n",
       "    </tr>\n",
       "  </tbody>\n",
       "</table>\n",
       "</div>"
      ],
      "text/plain": [
       "              timestamp revert revision_id     user\n",
       "0  2020-09-27T15:37:41Z      0           1  Lirim.Z\n",
       "1  2020-09-27T15:40:52Z      0           2  Lirim.Z\n",
       "2  2020-09-27T15:41:31Z      0           3  Lirim.Z\n",
       "3  2020-09-27T15:41:46Z      0           4  Lirim.Z\n",
       "4  2020-09-27T15:43:51Z      0           5  Lirim.Z"
      ]
     },
     "execution_count": 13,
     "metadata": {},
     "output_type": "execute_result"
    }
   ],
   "source": [
    "dfs[4].head()"
   ]
  },
  {
   "cell_type": "code",
   "execution_count": 14,
   "metadata": {},
   "outputs": [
    {
     "data": {
      "text/plain": [
       "Timestamp('2020-11-18 00:00:00')"
      ]
     },
     "execution_count": 14,
     "metadata": {},
     "output_type": "execute_result"
    }
   ],
   "source": [
    "start, end = date_range(\"November 20, 2020\")\n",
    "start"
   ]
  },
  {
   "cell_type": "code",
   "execution_count": 15,
   "metadata": {},
   "outputs": [
    {
     "ename": "NameError",
     "evalue": "name 'release_date' is not defined",
     "output_type": "error",
     "traceback": [
      "\u001b[0;31m---------------------------------------------------------------------------\u001b[0m",
      "\u001b[0;31mNameError\u001b[0m                                 Traceback (most recent call last)",
      "\u001b[0;32m<ipython-input-15-d0dc0d255f80>\u001b[0m in \u001b[0;36m<module>\u001b[0;34m\u001b[0m\n\u001b[1;32m     14\u001b[0m \u001b[0mplt\u001b[0m\u001b[0;34m.\u001b[0m\u001b[0mtitle\u001b[0m\u001b[0;34m(\u001b[0m\u001b[0;34m'Be Album\\'s Wikipedia Revision Activity'\u001b[0m\u001b[0;34m)\u001b[0m\u001b[0;34m\u001b[0m\u001b[0m\n\u001b[1;32m     15\u001b[0m \u001b[0;34m\u001b[0m\u001b[0m\n\u001b[0;32m---> 16\u001b[0;31m \u001b[0mx\u001b[0m \u001b[0;34m=\u001b[0m \u001b[0mrelease_date\u001b[0m\u001b[0;34m\u001b[0m\u001b[0m\n\u001b[0m\u001b[1;32m     17\u001b[0m \u001b[0my\u001b[0m \u001b[0;34m=\u001b[0m \u001b[0mdata\u001b[0m\u001b[0;34m[\u001b[0m\u001b[0mdata\u001b[0m\u001b[0;34m.\u001b[0m\u001b[0mindex\u001b[0m \u001b[0;34m==\u001b[0m \u001b[0mrelease_date\u001b[0m\u001b[0;34m]\u001b[0m\u001b[0;34m.\u001b[0m\u001b[0muser\u001b[0m\u001b[0;34m[\u001b[0m\u001b[0;36m0\u001b[0m\u001b[0;34m]\u001b[0m\u001b[0;34m\u001b[0m\u001b[0m\n\u001b[1;32m     18\u001b[0m \u001b[0;34m\u001b[0m\u001b[0m\n",
      "\u001b[0;31mNameError\u001b[0m: name 'release_date' is not defined"
     ]
    },
    {
     "data": {
      "image/png": "[encoded data removed]",
      "text/plain": [
       "<Figure size 432x288 with 1 Axes>"
      ]
     },
     "metadata": {
      "needs_background": "light"
     },
     "output_type": "display_data"
    }
   ],
   "source": [
    "be = dfs[4]\n",
    "be.timestamp = pd.DatetimeIndex(pd.to_datetime(be.timestamp)).tz_localize(None)\n",
    "filtered = be[(be.timestamp > start) & (be.timestamp < end)]\n",
    "\n",
    "filtered = filtered.sort_values(by = 'timestamp', ascending = True)\n",
    "filtered.timestamp = filtered.timestamp.apply(lambda x: x.date())\n",
    "data = filtered.groupby(by = 'timestamp').count()\n",
    "\n",
    "fig, ax = plt.subplots()\n",
    "data.user.plot()\n",
    "plt.ylabel('number of revisions')\n",
    "plt.xlabel('date')\n",
    "plt.xticks(rotation=45, ha=\"right\")\n",
    "plt.title('Be Album\\'s Wikipedia Revision Activity')\n",
    "\n",
    "x = release_date\n",
    "y = data[data.index == release_date].user[0]\n",
    "\n",
    "ax.annotate('Album Release', xy = (x ,10), color='purple', alpha = 0.5)\n",
    "\n",
    "ax.axvline(x, color='purple', alpha=0.5)\n",
    "\n",
    "plt.show()"
   ]
  },
  {
   "cell_type": "markdown",
   "metadata": {},
   "source": [
    "### for all albums"
   ]
  },
  {
   "cell_type": "code",
   "execution_count": 16,
   "metadata": {},
   "outputs": [],
   "source": [
    "fp = \"../data/raw/light_dump/bts_albums.txt\"\n",
    "# titles, dfs = lightdump_read_n(fp, 5)"
   ]
  },
  {
   "cell_type": "code",
   "execution_count": 17,
   "metadata": {},
   "outputs": [],
   "source": [
    "release_dates = {\n",
    "    'Dark & Wild': 'August 19, 2014',\n",
    "    'Wings (BTS album)': 'October 10, 2016',\n",
    "    'Love Yourself: Tear': 'May 18, 2018',\n",
    "    'Map of the Soul: 7': 'February 21, 2020',\n",
    "    'Be (BTS album)': 'November 20, 2020'\n",
    "}"
   ]
  },
  {
   "cell_type": "code",
   "execution_count": 73,
   "metadata": {},
   "outputs": [],
   "source": [
    "def visualize_album_activity(fp, release_dates):\n",
    "    '''\n",
    "    Visualizes Wikipedia activity after album releases\n",
    "    '''\n",
    "    titles, dfs = lightdump_read_n(fp, 5)\n",
    "    d = list(zip(titles, dfs))\n",
    "    for [title, df] in d:\n",
    "        release_date = release_dates[title]\n",
    "        start, end = date_range(release_date)\n",
    "\n",
    "        df.timestamp = pd.DatetimeIndex(pd.to_datetime(df.timestamp)).tz_localize(None)\n",
    "        filtered = df[(df.timestamp > start) & (df.timestamp < end)]\n",
    "        filtered = filtered.sort_values(by = 'timestamp', ascending = True)\n",
    "        filtered.timestamp = filtered.timestamp.apply(lambda x: x.date())\n",
    "        data = filtered.groupby(by = 'timestamp').count()\n",
    "\n",
    "        if data.shape[0] == 0:\n",
    "            data = pd.DataFrame()\n",
    "            data['timestamp'] = pd.date_range(start= start, end = end)\n",
    "            data.timestamp = pd.to_datetime(data.timestamp)\n",
    "            data['user'] = [0 for i in range(len(data.timestamp))]\n",
    "            data = data.set_index('timestamp')\n",
    "\n",
    "        display(data)\n",
    "        data[[\"user\"]].plot()\n",
    "        plt.ylabel('number of revisions')\n",
    "        plt.xlabel('date')\n",
    "        plt.xticks(rotation=45, ha=\"right\")\n",
    "        plt.title(title + ' Album\\'s Wikipedia Revision Activity')\n",
    "\n",
    "        x = release_date\n",
    "        ax.annotate('Album Release', xy = (x ,5), color='purple', alpha = 0.5)\n",
    "        ax.axvline(x, color='purple', alpha=0.5)\n",
    "\n",
    "        plt.savefig(\"../data/eda/album_\" + title + \"wiki_activity.png\")\n",
    "    "
   ]
  },
  {
   "cell_type": "code",
   "execution_count": null,
   "metadata": {},
   "outputs": [],
   "source": []
  },
  {
   "cell_type": "code",
   "execution_count": null,
   "metadata": {},
   "outputs": [],
   "source": []
  },
  {
   "cell_type": "code",
   "execution_count": 147,
   "metadata": {},
   "outputs": [],
   "source": [
    "release_date = \"November 20, 2020\"\n",
    "release_date = pd.to_datetime(release_date).date()"
   ]
  },
  {
   "cell_type": "code",
   "execution_count": null,
   "metadata": {},
   "outputs": [],
   "source": []
  },
  {
   "cell_type": "code",
   "execution_count": 169,
   "metadata": {},
   "outputs": [],
   "source": [
    "#check bts main page time series data\n",
    "fp = \"../data/raw/light_dump/Kpop_ld.txt\"\n",
    "titles, dfs = lightdump_read_n(fp, 0)"
   ]
  },
  {
   "cell_type": "code",
   "execution_count": 170,
   "metadata": {},
   "outputs": [
    {
     "data": {
      "text/plain": [
       "'BTS'"
      ]
     },
     "execution_count": 170,
     "metadata": {},
     "output_type": "execute_result"
    }
   ],
   "source": [
    "titles[0]"
   ]
  },
  {
   "cell_type": "code",
   "execution_count": 172,
   "metadata": {},
   "outputs": [],
   "source": [
    "bts = dfs[0]"
   ]
  },
  {
   "cell_type": "code",
   "execution_count": 173,
   "metadata": {},
   "outputs": [
    {
     "data": {
      "text/html": [
       "<div>\n",
       "<style scoped>\n",
       "    .dataframe tbody tr th:only-of-type {\n",
       "        vertical-align: middle;\n",
       "    }\n",
       "\n",
       "    .dataframe tbody tr th {\n",
       "        vertical-align: top;\n",
       "    }\n",
       "\n",
       "    .dataframe thead th {\n",
       "        text-align: right;\n",
       "    }\n",
       "</style>\n",
       "<table border=\"1\" class=\"dataframe\">\n",
       "  <thead>\n",
       "    <tr style=\"text-align: right;\">\n",
       "      <th></th>\n",
       "      <th>timestamp</th>\n",
       "      <th>revert</th>\n",
       "      <th>revision_id</th>\n",
       "      <th>user</th>\n",
       "    </tr>\n",
       "  </thead>\n",
       "  <tbody>\n",
       "    <tr>\n",
       "      <th>0</th>\n",
       "      <td>2013-07-04 19:45:15+00:00</td>\n",
       "      <td>0</td>\n",
       "      <td>1</td>\n",
       "      <td>Hinorisakamachi</td>\n",
       "    </tr>\n",
       "    <tr>\n",
       "      <th>1</th>\n",
       "      <td>2013-07-04 19:47:39+00:00</td>\n",
       "      <td>0</td>\n",
       "      <td>2</td>\n",
       "      <td>Hinorisakamachi</td>\n",
       "    </tr>\n",
       "    <tr>\n",
       "      <th>2</th>\n",
       "      <td>2013-07-04 19:59:17+00:00</td>\n",
       "      <td>0</td>\n",
       "      <td>3</td>\n",
       "      <td>Hinorisakamachi</td>\n",
       "    </tr>\n",
       "    <tr>\n",
       "      <th>3</th>\n",
       "      <td>2013-07-04 19:59:53+00:00</td>\n",
       "      <td>0</td>\n",
       "      <td>4</td>\n",
       "      <td>Hinorisakamachi</td>\n",
       "    </tr>\n",
       "    <tr>\n",
       "      <th>4</th>\n",
       "      <td>2013-07-04 20:19:54+00:00</td>\n",
       "      <td>0</td>\n",
       "      <td>5</td>\n",
       "      <td>39.198.179.240</td>\n",
       "    </tr>\n",
       "  </tbody>\n",
       "</table>\n",
       "</div>"
      ],
      "text/plain": [
       "                  timestamp revert revision_id             user\n",
       "0 2013-07-04 19:45:15+00:00      0           1  Hinorisakamachi\n",
       "1 2013-07-04 19:47:39+00:00      0           2  Hinorisakamachi\n",
       "2 2013-07-04 19:59:17+00:00      0           3  Hinorisakamachi\n",
       "3 2013-07-04 19:59:53+00:00      0           4  Hinorisakamachi\n",
       "4 2013-07-04 20:19:54+00:00      0           5   39.198.179.240"
      ]
     },
     "execution_count": 173,
     "metadata": {},
     "output_type": "execute_result"
    }
   ],
   "source": [
    "bts.head()"
   ]
  },
  {
   "cell_type": "code",
   "execution_count": 174,
   "metadata": {},
   "outputs": [],
   "source": [
    "\n",
    "bts.timestamp = pd.DatetimeIndex(pd.to_datetime(bts.timestamp,unit='ms')).tz_localize(None)"
   ]
  },
  {
   "cell_type": "code",
   "execution_count": 176,
   "metadata": {},
   "outputs": [
    {
     "data": {
      "text/html": [
       "<div>\n",
       "<style scoped>\n",
       "    .dataframe tbody tr th:only-of-type {\n",
       "        vertical-align: middle;\n",
       "    }\n",
       "\n",
       "    .dataframe tbody tr th {\n",
       "        vertical-align: top;\n",
       "    }\n",
       "\n",
       "    .dataframe thead th {\n",
       "        text-align: right;\n",
       "    }\n",
       "</style>\n",
       "<table border=\"1\" class=\"dataframe\">\n",
       "  <thead>\n",
       "    <tr style=\"text-align: right;\">\n",
       "      <th></th>\n",
       "      <th>timestamp</th>\n",
       "      <th>revert</th>\n",
       "      <th>revision_id</th>\n",
       "      <th>user</th>\n",
       "    </tr>\n",
       "  </thead>\n",
       "  <tbody>\n",
       "    <tr>\n",
       "      <th>0</th>\n",
       "      <td>2013-07-04 19:45:15</td>\n",
       "      <td>0</td>\n",
       "      <td>1</td>\n",
       "      <td>Hinorisakamachi</td>\n",
       "    </tr>\n",
       "    <tr>\n",
       "      <th>1</th>\n",
       "      <td>2013-07-04 19:47:39</td>\n",
       "      <td>0</td>\n",
       "      <td>2</td>\n",
       "      <td>Hinorisakamachi</td>\n",
       "    </tr>\n",
       "    <tr>\n",
       "      <th>2</th>\n",
       "      <td>2013-07-04 19:59:17</td>\n",
       "      <td>0</td>\n",
       "      <td>3</td>\n",
       "      <td>Hinorisakamachi</td>\n",
       "    </tr>\n",
       "    <tr>\n",
       "      <th>3</th>\n",
       "      <td>2013-07-04 19:59:53</td>\n",
       "      <td>0</td>\n",
       "      <td>4</td>\n",
       "      <td>Hinorisakamachi</td>\n",
       "    </tr>\n",
       "    <tr>\n",
       "      <th>4</th>\n",
       "      <td>2013-07-04 20:19:54</td>\n",
       "      <td>0</td>\n",
       "      <td>5</td>\n",
       "      <td>39.198.179.240</td>\n",
       "    </tr>\n",
       "    <tr>\n",
       "      <th>...</th>\n",
       "      <td>...</td>\n",
       "      <td>...</td>\n",
       "      <td>...</td>\n",
       "      <td>...</td>\n",
       "    </tr>\n",
       "    <tr>\n",
       "      <th>995</th>\n",
       "      <td>2014-12-21 12:02:18</td>\n",
       "      <td>0</td>\n",
       "      <td>780</td>\n",
       "      <td>121.6.37.231</td>\n",
       "    </tr>\n",
       "    <tr>\n",
       "      <th>996</th>\n",
       "      <td>2014-12-21 17:32:02</td>\n",
       "      <td>0</td>\n",
       "      <td>781</td>\n",
       "      <td>49.144.223.122</td>\n",
       "    </tr>\n",
       "    <tr>\n",
       "      <th>997</th>\n",
       "      <td>2014-12-22 07:36:52</td>\n",
       "      <td>0</td>\n",
       "      <td>782</td>\n",
       "      <td>Exo-l</td>\n",
       "    </tr>\n",
       "    <tr>\n",
       "      <th>998</th>\n",
       "      <td>2014-12-23 05:38:08</td>\n",
       "      <td>0</td>\n",
       "      <td>783</td>\n",
       "      <td>99.64.240.60</td>\n",
       "    </tr>\n",
       "    <tr>\n",
       "      <th>999</th>\n",
       "      <td>2014-12-23 05:38:11</td>\n",
       "      <td>0</td>\n",
       "      <td>508</td>\n",
       "      <td>ClueBot</td>\n",
       "    </tr>\n",
       "  </tbody>\n",
       "</table>\n",
       "<p>1000 rows × 4 columns</p>\n",
       "</div>"
      ],
      "text/plain": [
       "              timestamp revert revision_id             user\n",
       "0   2013-07-04 19:45:15      0           1  Hinorisakamachi\n",
       "1   2013-07-04 19:47:39      0           2  Hinorisakamachi\n",
       "2   2013-07-04 19:59:17      0           3  Hinorisakamachi\n",
       "3   2013-07-04 19:59:53      0           4  Hinorisakamachi\n",
       "4   2013-07-04 20:19:54      0           5   39.198.179.240\n",
       "..                  ...    ...         ...              ...\n",
       "995 2014-12-21 12:02:18      0         780     121.6.37.231\n",
       "996 2014-12-21 17:32:02      0         781   49.144.223.122\n",
       "997 2014-12-22 07:36:52      0         782            Exo-l\n",
       "998 2014-12-23 05:38:08      0         783     99.64.240.60\n",
       "999 2014-12-23 05:38:11      0         508          ClueBot\n",
       "\n",
       "[1000 rows x 4 columns]"
      ]
     },
     "execution_count": 176,
     "metadata": {},
     "output_type": "execute_result"
    }
   ],
   "source": [
    "bts"
   ]
  },
  {
   "cell_type": "code",
   "execution_count": 175,
   "metadata": {},
   "outputs": [
    {
     "data": {
      "text/html": [
       "<div>\n",
       "<style scoped>\n",
       "    .dataframe tbody tr th:only-of-type {\n",
       "        vertical-align: middle;\n",
       "    }\n",
       "\n",
       "    .dataframe tbody tr th {\n",
       "        vertical-align: top;\n",
       "    }\n",
       "\n",
       "    .dataframe thead th {\n",
       "        text-align: right;\n",
       "    }\n",
       "</style>\n",
       "<table border=\"1\" class=\"dataframe\">\n",
       "  <thead>\n",
       "    <tr style=\"text-align: right;\">\n",
       "      <th></th>\n",
       "      <th>timestamp</th>\n",
       "      <th>revert</th>\n",
       "      <th>revision_id</th>\n",
       "      <th>user</th>\n",
       "    </tr>\n",
       "  </thead>\n",
       "  <tbody>\n",
       "  </tbody>\n",
       "</table>\n",
       "</div>"
      ],
      "text/plain": [
       "Empty DataFrame\n",
       "Columns: [timestamp, revert, revision_id, user]\n",
       "Index: []"
      ]
     },
     "execution_count": 175,
     "metadata": {},
     "output_type": "execute_result"
    }
   ],
   "source": [
    "bts[(bts.timestamp > start) & (bts.timestamp < end)]"
   ]
  },
  {
   "cell_type": "code",
   "execution_count": 96,
   "metadata": {},
   "outputs": [
    {
     "data": {
      "text/plain": [
       "Timestamp('2013-07-04 19:45:15')"
      ]
     },
     "execution_count": 96,
     "metadata": {},
     "output_type": "execute_result"
    }
   ],
   "source": [
    "bts.timestamp[0].tz_localize(None)"
   ]
  },
  {
   "cell_type": "code",
   "execution_count": 97,
   "metadata": {},
   "outputs": [
    {
     "data": {
      "text/plain": [
       "Timestamp('2014-08-17 00:00:00')"
      ]
     },
     "execution_count": 97,
     "metadata": {},
     "output_type": "execute_result"
    }
   ],
   "source": [
    "start"
   ]
  },
  {
   "cell_type": "code",
   "execution_count": null,
   "metadata": {},
   "outputs": [],
   "source": []
  }
 ],
 "metadata": {
  "kernelspec": {
   "display_name": "Python 3",
   "language": "python",
   "name": "python3"
  },
  "language_info": {
   "codemirror_mode": {
    "name": "ipython",
    "version": 3
   },
   "file_extension": ".py",
   "mimetype": "text/x-python",
   "name": "python",
   "nbconvert_exporter": "python",
   "pygments_lexer": "ipython3",
   "version": "3.6.2"
  }
 },
 "nbformat": 4,
 "nbformat_minor": 2
}
