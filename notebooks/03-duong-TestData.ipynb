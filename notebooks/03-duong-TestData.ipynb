{
 "cells": [
  {
   "cell_type": "code",
   "execution_count": 1,
   "metadata": {},
   "outputs": [],
   "source": [
    "import pandas as pd\n",
    "import numpy as np\n",
    "import os\n",
    "\n",
    "#for plotting\n",
    "import seaborn as sns\n",
    "sns.set(rc={'figure.figsize':(11.7,8.27)})\n",
    "\n",
    "from matplotlib import pyplot as plt\n",
    "import matplotlib.ticker as ticker\n",
    "from matplotlib import rcParams\n",
    "rcParams['figure.figsize'] = (20, 10)"
   ]
  },
  {
   "cell_type": "code",
   "execution_count": 2,
   "metadata": {},
   "outputs": [
    {
     "data": {
      "text/plain": [
       "'/home/ckduong/Fandom-Online-Collaboration/test/testdata'"
      ]
     },
     "execution_count": 2,
     "metadata": {},
     "output_type": "execute_result"
    }
   ],
   "source": [
    "os.getcwd()\n",
    "\n",
    "path_parent = os.path.dirname(os.getcwd())\n",
    "\n",
    "os.chdir(path_parent)\n",
    "\n",
    "os.chdir(os.getcwd() + '/test/testdata')\n",
    "os.getcwd()"
   ]
  },
  {
   "cell_type": "markdown",
   "metadata": {},
   "source": [
    "# Google Trends"
   ]
  },
  {
   "cell_type": "code",
   "execution_count": 3,
   "metadata": {},
   "outputs": [],
   "source": [
    "dates = [np.arange(np.datetime64('2017-09-01'), np.datetime64('2017-09-25'),\n",
    "         np.timedelta64(1, 'D')),\n",
    "         np.arange(np.datetime64('2018-10-31'), np.datetime64('2018-11-15'),\n",
    "         np.timedelta64(1, 'D')),\n",
    "         np.arange(np.datetime64('2020-12-05'), np.datetime64('2020-12-29'),\n",
    "         np.timedelta64(1, 'D'))]"
   ]
  },
  {
   "cell_type": "code",
   "execution_count": null,
   "metadata": {},
   "outputs": [],
   "source": [
    "df_list = []\n",
    "c = 1\n",
    "\n",
    "for date in dates:\n",
    "    fake_trends = pd.DataFrame(index = date)\n",
    "    fake_trends.index.name = 'date'\n",
    "\n",
    "    fake_trends['Aaron'] = np.random.choice(np.arange(0, 101), len(date))\n",
    "    fake_trends['Justin'] = np.random.choice(np.arange(0, 101), len(date))\n",
    "    fake_trends['Marina'] = np.random.choice(np.arange(0, 101), len(date))\n",
    "    \n",
    "    fake_trends.reset_index(inplace = True)\n",
    "    \n",
    "    fake_trends = fake_trends.melt(id_vars=['date'], \n",
    "                                   var_name=\"Artist\", \n",
    "                                   value_name=\"Popularity\")\n",
    "    \n",
    "    filename = 'google' + str(c) + '.csv'\n",
    "    \n",
    "    out = os.path.join('trends', filename)\n",
    "    fake_trends.to_csv(out, index = False)\n",
    "    \n",
    "    c += 1"
   ]
  },
  {
   "cell_type": "markdown",
   "metadata": {},
   "source": [
    "# Wiki Pageviews"
   ]
  },
  {
   "cell_type": "code",
   "execution_count": 14,
   "metadata": {},
   "outputs": [],
   "source": [
    "artists = ['Aaron', 'Justin', 'Marina']"
   ]
  },
  {
   "cell_type": "code",
   "execution_count": 15,
   "metadata": {},
   "outputs": [],
   "source": [
    "d = 1\n",
    "for date in dates:\n",
    "    fake_views = pd.DataFrame()\n",
    "    \n",
    "    for artist in artists:\n",
    "        artist_df = pd.DataFrame()\n",
    "        artist_df['timestamp'] = date\n",
    "        artist_df['article'] = artist\n",
    "        artist_df['views'] = np.random.choice(np.arange(0, 100000), len(date))\n",
    "        \n",
    "        fake_views = pd.concat([fake_views, artist_df])\n",
    "    \n",
    "    filename = 'wikipages' + str(d) + '.csv'\n",
    "    out = os.path.join('pageviews', filename)\n",
    "    fake_views.to_csv(out, index = False)\n",
    "    \n",
    "    d += 1"
   ]
  },
  {
   "cell_type": "code",
   "execution_count": 17,
   "metadata": {},
   "outputs": [
    {
     "data": {
      "text/plain": [
       "Timestamp('2020-12-28 00:00:00')"
      ]
     },
     "execution_count": 17,
     "metadata": {},
     "output_type": "execute_result"
    }
   ],
   "source": [
    "fake_views['timestamp'].max()"
   ]
  },
  {
   "cell_type": "code",
   "execution_count": null,
   "metadata": {},
   "outputs": [],
   "source": []
  }
 ],
 "metadata": {
  "kernelspec": {
   "display_name": "Python 3",
   "language": "python",
   "name": "python3"
  },
  "language_info": {
   "codemirror_mode": {
    "name": "ipython",
    "version": 3
   },
   "file_extension": ".py",
   "mimetype": "text/x-python",
   "name": "python",
   "nbconvert_exporter": "python",
   "pygments_lexer": "ipython3",
   "version": "3.7.6"
  }
 },
 "nbformat": 4,
 "nbformat_minor": 4
}
