{
 "cells": [
  {
   "cell_type": "code",
   "execution_count": 1,
   "metadata": {},
   "outputs": [],
   "source": [
    "import pandas as pd\n",
    "import numpy as np\n",
    "import warnings\n",
    "warnings.filterwarnings(\"ignore\")\n",
    "import seaborn as sns\n",
    "import matplotlib.pyplot as plt\n",
    "import matplotlib.ticker as ticker\n",
    "%matplotlib inline\n",
    "\n",
    "sns.set_theme()"
   ]
  },
  {
   "cell_type": "code",
   "execution_count": 2,
   "metadata": {},
   "outputs": [],
   "source": [
    "# read data\n",
    "bts1 = pd.read_csv('../data/raw/bts/dark_wild_final.csv')\n",
    "taylor1 = pd.read_csv('../data/raw/taylor/nine_final.csv')\n",
    "justin1 = pd.read_csv('../data/raw/justin/believe_final.csv')\n",
    "\n",
    "bts2 = pd.read_csv('../data/raw/bts/love_final.csv')\n",
    "taylor2 = pd.read_csv('../data/raw/taylor/reputation_final.csv')\n",
    "justin2 = pd.read_csv('../data/raw/justin/purpose_final.csv')\n",
    "\n",
    "bts3 = pd.read_csv('../data/raw/bts/be_final.csv')\n",
    "taylor3 = pd.read_csv('../data/raw/taylor/folklore_final.csv')\n",
    "justin3 = pd.read_csv('../data/raw/justin/changes_final.csv')"
   ]
  },
  {
   "cell_type": "code",
   "execution_count": 3,
   "metadata": {},
   "outputs": [],
   "source": [
    "all_albums = pd.read_csv('../data/raw/all_albums.csv')\n",
    "all_albums['num_hashtags'] = all_albums.hashtags.apply(lambda x: len(eval(x)))"
   ]
  },
  {
   "cell_type": "code",
   "execution_count": 7,
   "metadata": {},
   "outputs": [],
   "source": [
    "artists = ['bts_bighit', 'bts_jp_official', 'bts_twt', 'taylorswift13', 'bighitent', 'justinbieber', 'billboard']"
   ]
  },
  {
   "cell_type": "markdown",
   "metadata": {},
   "source": [
    "## Random"
   ]
  },
  {
   "cell_type": "markdown",
   "metadata": {},
   "source": [
    "## Datasets EDA"
   ]
  },
  {
   "cell_type": "code",
   "execution_count": 5,
   "metadata": {},
   "outputs": [],
   "source": [
    "dfs = [bts1, bts2, bts3, justin1, justin2, justin3, taylor1, taylor2, taylor3]\n",
    "artists = ['BTS'] * 3 + ['Justin Bieber'] * 3 + ['Taylor Swift'] * 3\n",
    "album_name = ['Dark & Wild', 'Love Yourself: Tear', 'Be', 'Believe', 'Purpose', 'Changes', '1989', 'Reputation',' Folklore']\n",
    "num_tweets = [len(df) + df.retweets_count.sum() for df in dfs]\n",
    "num_replies = [df.replies_count.sum() for df in dfs]\n",
    "num_users = [df.username.nunique() for df in dfs]\n",
    "num_followers = ['255K', '11M', '25M', '24M', '69M', '110M', '46M', '85M', '86M']\n",
    "release_date = [df[df.normalized_dates == 0].iloc[0].date for df in dfs]"
   ]
  },
  {
   "cell_type": "code",
   "execution_count": 9,
   "metadata": {},
   "outputs": [],
   "source": [
    "index = pd.MultiIndex.from_tuples(list(zip(artists, album_name)), names=['Artist', 'Album Name'])\n",
    "combined = pd.DataFrame({'Release Date': release_date,\n",
    "                         'Number of Followers at Release': num_followers,\n",
    "                         'Number of Tweets (Tweets + Retweets)': num_tweets,\n",
    "                         'Number of Replies': num_replies,\n",
    "                         'Number of Unique Users': num_users}, index=index)"
   ]
  },
  {
   "cell_type": "code",
   "execution_count": 10,
   "metadata": {},
   "outputs": [
    {
     "data": {
      "text/html": [
       "<div>\n",
       "<style scoped>\n",
       "    .dataframe tbody tr th:only-of-type {\n",
       "        vertical-align: middle;\n",
       "    }\n",
       "\n",
       "    .dataframe tbody tr th {\n",
       "        vertical-align: top;\n",
       "    }\n",
       "\n",
       "    .dataframe thead th {\n",
       "        text-align: right;\n",
       "    }\n",
       "</style>\n",
       "<table border=\"1\" class=\"dataframe\">\n",
       "  <thead>\n",
       "    <tr style=\"text-align: right;\">\n",
       "      <th></th>\n",
       "      <th></th>\n",
       "      <th>Release Date</th>\n",
       "      <th>Number of Followers at Release</th>\n",
       "      <th>Number of Tweets (Tweets + Retweets)</th>\n",
       "      <th>Number of Replies</th>\n",
       "      <th>Number of Unique Users</th>\n",
       "    </tr>\n",
       "    <tr>\n",
       "      <th>Artist</th>\n",
       "      <th>Album Name</th>\n",
       "      <th></th>\n",
       "      <th></th>\n",
       "      <th></th>\n",
       "      <th></th>\n",
       "      <th></th>\n",
       "    </tr>\n",
       "  </thead>\n",
       "  <tbody>\n",
       "    <tr>\n",
       "      <th rowspan=\"3\" valign=\"top\">BTS</th>\n",
       "      <th>Dark &amp; Wild</th>\n",
       "      <td>2014-08-19</td>\n",
       "      <td>255K</td>\n",
       "      <td>259549</td>\n",
       "      <td>11929</td>\n",
       "      <td>16506</td>\n",
       "    </tr>\n",
       "    <tr>\n",
       "      <th>Love Yourself: Tear</th>\n",
       "      <td>2018-05-18</td>\n",
       "      <td>11M</td>\n",
       "      <td>12459419</td>\n",
       "      <td>338322</td>\n",
       "      <td>79306</td>\n",
       "    </tr>\n",
       "    <tr>\n",
       "      <th>Be</th>\n",
       "      <td>2020-11-20</td>\n",
       "      <td>25M</td>\n",
       "      <td>25321067</td>\n",
       "      <td>2163958</td>\n",
       "      <td>318763</td>\n",
       "    </tr>\n",
       "    <tr>\n",
       "      <th rowspan=\"3\" valign=\"top\">Justin Bieber</th>\n",
       "      <th>Believe</th>\n",
       "      <td>2012-06-15</td>\n",
       "      <td>24M</td>\n",
       "      <td>96715</td>\n",
       "      <td>7978</td>\n",
       "      <td>22249</td>\n",
       "    </tr>\n",
       "    <tr>\n",
       "      <th>Purpose</th>\n",
       "      <td>2015-11-13</td>\n",
       "      <td>69M</td>\n",
       "      <td>227519</td>\n",
       "      <td>9550</td>\n",
       "      <td>24566</td>\n",
       "    </tr>\n",
       "    <tr>\n",
       "      <th>Changes</th>\n",
       "      <td>2020-02-14</td>\n",
       "      <td>110M</td>\n",
       "      <td>329384</td>\n",
       "      <td>62110</td>\n",
       "      <td>25053</td>\n",
       "    </tr>\n",
       "    <tr>\n",
       "      <th rowspan=\"3\" valign=\"top\">Taylor Swift</th>\n",
       "      <th>1989</th>\n",
       "      <td>2014-10-27</td>\n",
       "      <td>46M</td>\n",
       "      <td>301934</td>\n",
       "      <td>22550</td>\n",
       "      <td>61522</td>\n",
       "    </tr>\n",
       "    <tr>\n",
       "      <th>Reputation</th>\n",
       "      <td>2017-11-10</td>\n",
       "      <td>85M</td>\n",
       "      <td>484394</td>\n",
       "      <td>70672</td>\n",
       "      <td>34886</td>\n",
       "    </tr>\n",
       "    <tr>\n",
       "      <th>Folklore</th>\n",
       "      <td>2020-07-24</td>\n",
       "      <td>86M</td>\n",
       "      <td>1459533</td>\n",
       "      <td>291518</td>\n",
       "      <td>62363</td>\n",
       "    </tr>\n",
       "  </tbody>\n",
       "</table>\n",
       "</div>"
      ],
      "text/plain": [
       "                                  Release Date Number of Followers at Release  \\\n",
       "Artist        Album Name                                                        \n",
       "BTS           Dark & Wild           2014-08-19                           255K   \n",
       "              Love Yourself: Tear   2018-05-18                            11M   \n",
       "              Be                    2020-11-20                            25M   \n",
       "Justin Bieber Believe               2012-06-15                            24M   \n",
       "              Purpose               2015-11-13                            69M   \n",
       "              Changes               2020-02-14                           110M   \n",
       "Taylor Swift  1989                  2014-10-27                            46M   \n",
       "              Reputation            2017-11-10                            85M   \n",
       "               Folklore             2020-07-24                            86M   \n",
       "\n",
       "                                   Number of Tweets (Tweets + Retweets)  \\\n",
       "Artist        Album Name                                                  \n",
       "BTS           Dark & Wild                                        259549   \n",
       "              Love Yourself: Tear                              12459419   \n",
       "              Be                                               25321067   \n",
       "Justin Bieber Believe                                             96715   \n",
       "              Purpose                                            227519   \n",
       "              Changes                                            329384   \n",
       "Taylor Swift  1989                                               301934   \n",
       "              Reputation                                         484394   \n",
       "               Folklore                                         1459533   \n",
       "\n",
       "                                   Number of Replies  Number of Unique Users  \n",
       "Artist        Album Name                                                      \n",
       "BTS           Dark & Wild                      11929                   16506  \n",
       "              Love Yourself: Tear             338322                   79306  \n",
       "              Be                             2163958                  318763  \n",
       "Justin Bieber Believe                           7978                   22249  \n",
       "              Purpose                           9550                   24566  \n",
       "              Changes                          62110                   25053  \n",
       "Taylor Swift  1989                             22550                   61522  \n",
       "              Reputation                       70672                   34886  \n",
       "               Folklore                       291518                   62363  "
      ]
     },
     "execution_count": 10,
     "metadata": {},
     "output_type": "execute_result"
    }
   ],
   "source": [
    "combined"
   ]
  },
  {
   "cell_type": "code",
   "execution_count": 8,
   "metadata": {},
   "outputs": [],
   "source": [
    "def bin_users(x):\n",
    "    if x <=1:\n",
    "        return '<=1'\n",
    "    if x< 10:\n",
    "        return '2-10'\n",
    "    if x < 100:\n",
    "        return '10-100'\n",
    "    if x < 500:\n",
    "        return '100-500'\n",
    "    else:\n",
    "        return '>500'"
   ]
  },
  {
   "cell_type": "code",
   "execution_count": 9,
   "metadata": {},
   "outputs": [],
   "source": [
    "bts3_no_artist = bts3[~bts3.username.isin(artists)]"
   ]
  },
  {
   "cell_type": "code",
   "execution_count": 10,
   "metadata": {},
   "outputs": [],
   "source": [
    "bts3_likes_counts = bts3_no_artist.groupby('username').likes_count.sum().to_frame()\n",
    "bts3_likes_counts['bins'] = bts3_likes_counts.likes_count.apply(bin_users)\n",
    "bts3_likes_counts = bts3_likes_counts.groupby('bins').likes_count.count().to_frame().reset_index()"
   ]
  },
  {
   "cell_type": "code",
   "execution_count": 11,
   "metadata": {},
   "outputs": [],
   "source": [
    "bts3_retweets_counts = bts3_no_artist.groupby('username').retweets_count.sum().to_frame()\n",
    "bts3_retweets_counts['bins'] = bts3_retweets_counts.retweets_count.apply(bin_users)\n",
    "bts3_retweets_counts = bts3_retweets_counts.groupby('bins').retweets_count.count().to_frame().reset_index()"
   ]
  },
  {
   "cell_type": "code",
   "execution_count": 12,
   "metadata": {},
   "outputs": [],
   "source": [
    "bts3_replies_counts = bts3_no_artist.groupby('username').replies_count.sum().to_frame()\n",
    "bts3_replies_counts['bins'] = bts3_replies_counts.replies_count.apply(bin_users)\n",
    "bts3_replies_counts = bts3_replies_counts.groupby('bins').replies_count.count().to_frame().reset_index()"
   ]
  },
  {
   "cell_type": "code",
   "execution_count": 13,
   "metadata": {},
   "outputs": [],
   "source": [
    "to_bar = pd.DataFrame().assign(bins=['<=1', '2-10', '10-100', '100-500', '>500'])\n",
    "to_bar = to_bar.merge(bts3_likes_counts).merge(bts3_retweets_counts).merge(bts3_replies_counts).sort_values('likes_count', ascending=False)"
   ]
  },
  {
   "cell_type": "code",
   "execution_count": 14,
   "metadata": {},
   "outputs": [
    {
     "data": {
      "text/html": [
       "<div>\n",
       "<style scoped>\n",
       "    .dataframe tbody tr th:only-of-type {\n",
       "        vertical-align: middle;\n",
       "    }\n",
       "\n",
       "    .dataframe tbody tr th {\n",
       "        vertical-align: top;\n",
       "    }\n",
       "\n",
       "    .dataframe thead th {\n",
       "        text-align: right;\n",
       "    }\n",
       "</style>\n",
       "<table border=\"1\" class=\"dataframe\">\n",
       "  <thead>\n",
       "    <tr style=\"text-align: right;\">\n",
       "      <th></th>\n",
       "      <th>bins</th>\n",
       "      <th>likes_count</th>\n",
       "      <th>retweets_count</th>\n",
       "      <th>replies_count</th>\n",
       "    </tr>\n",
       "  </thead>\n",
       "  <tbody>\n",
       "    <tr>\n",
       "      <th>0</th>\n",
       "      <td>&lt;=1</td>\n",
       "      <td>219253</td>\n",
       "      <td>266623</td>\n",
       "      <td>290469</td>\n",
       "    </tr>\n",
       "    <tr>\n",
       "      <th>1</th>\n",
       "      <td>2-10</td>\n",
       "      <td>67420</td>\n",
       "      <td>35665</td>\n",
       "      <td>20866</td>\n",
       "    </tr>\n",
       "    <tr>\n",
       "      <th>2</th>\n",
       "      <td>10-100</td>\n",
       "      <td>24884</td>\n",
       "      <td>12859</td>\n",
       "      <td>6225</td>\n",
       "    </tr>\n",
       "    <tr>\n",
       "      <th>3</th>\n",
       "      <td>100-500</td>\n",
       "      <td>4628</td>\n",
       "      <td>2238</td>\n",
       "      <td>960</td>\n",
       "    </tr>\n",
       "    <tr>\n",
       "      <th>4</th>\n",
       "      <td>&gt;500</td>\n",
       "      <td>2574</td>\n",
       "      <td>1374</td>\n",
       "      <td>239</td>\n",
       "    </tr>\n",
       "  </tbody>\n",
       "</table>\n",
       "</div>"
      ],
      "text/plain": [
       "      bins  likes_count  retweets_count  replies_count\n",
       "0      <=1       219253          266623         290469\n",
       "1     2-10        67420           35665          20866\n",
       "2   10-100        24884           12859           6225\n",
       "3  100-500         4628            2238            960\n",
       "4     >500         2574            1374            239"
      ]
     },
     "execution_count": 14,
     "metadata": {},
     "output_type": "execute_result"
    }
   ],
   "source": [
    "to_bar"
   ]
  },
  {
   "cell_type": "code",
   "execution_count": 15,
   "metadata": {},
   "outputs": [
    {
     "data": {
      "text/plain": [
       "(0, 300000)"
      ]
     },
     "execution_count": 15,
     "metadata": {},
     "output_type": "execute_result"
    },
    {
     "data": {
      "image/png": "[encoded data removed]",
      "text/plain": [
       "<Figure size 1296x432 with 3 Axes>"
      ]
     },
     "metadata": {
      "needs_background": "light"
     },
     "output_type": "display_data"
    }
   ],
   "source": [
    "fig_dims = (18, 6)\n",
    "fig, ax = plt.subplots(1, 3, figsize=fig_dims)\n",
    "sns.barplot(x='bins', y='likes_count', data=to_bar, ax=ax[0], color='#e02460')\n",
    "ax[0].set_title('Distribution of Likes Received per User', fontsize=15)\n",
    "ax[0].set_xlabel('Number of Likes', fontsize=13)\n",
    "ax[0].set_ylabel('Number of Users', fontsize=13)\n",
    "ax[0].yaxis.set_major_formatter(ticker.EngFormatter())\n",
    "ax[0].set_ylim(0, 300000)\n",
    "\n",
    "sns.barplot(x='bins', y='retweets_count', data=to_bar, ax=ax[1], color='#19cf86')\n",
    "ax[1].set_title('Distribution of Retweets Received per User', fontsize=15)\n",
    "ax[1].set_xlabel('Number of Retweets', fontsize=13)\n",
    "ax[1].set_ylabel('Number of Users', fontsize=13)\n",
    "ax[1].yaxis.set_major_formatter(ticker.EngFormatter())\n",
    "ax[1].set_ylim(0, 300000)\n",
    "\n",
    "sns.barplot(x='bins', y='replies_count', data=to_bar, ax=ax[2], color='#1DA1F2')\n",
    "ax[2].set_title('Distribution of Replies Received per User', fontsize=15)\n",
    "ax[2].set_xlabel('Number of Replies', fontsize=13)\n",
    "ax[2].set_ylabel('Number of Users', fontsize=13)\n",
    "ax[2].yaxis.set_major_formatter(ticker.EngFormatter())\n",
    "ax[2].set_ylim(0, 300000)"
   ]
  },
  {
   "cell_type": "markdown",
   "metadata": {},
   "source": [
    "## Sample EDA\n",
    "Albums chosen (from 2 days before release to 12 days after):<br>\n",
    "BTSDw - (August 17 2014 - Aug 31 2014)<br>\n",
    "BTSLove - (May 16 2018 - May 30 2018)<br>\n",
    "BTSBe - (November 18 2020 - December 2 2020)<br>\n",
    "\n",
    "TS1989 - (October 25 2014 - Nov 8 2014)<br>\n",
    "TSRep - (Nov 8 2017 - Nov 22 2017)<br>\n",
    "TSFolk - (July 22 2020 - Aug 5 2020)<br>\n",
    "\n",
    "JBB - (June 13 2012 - June 27 2012)<br>\n",
    "JBP - (Nov 11 2015 - Nov 25 2015)<br>\n",
    "JBC - (Feb 12 2020 - Feb 26 2020)<br>\n",
    "\n",
    "We are treating a combination of all our datasets (40,000 tweets from each album, otherwise BTSBe makes up >50% of all the tweets) as a \"sample\" of the twitter population, specifically a sample of the Fandom population on twitter. EDA section will introduce stats of that sample as \"baseline\" measures, while Results section will compare stats between artists."
   ]
  },
  {
   "cell_type": "markdown",
   "metadata": {},
   "source": [
    "### Basic Stats"
   ]
  },
  {
   "cell_type": "markdown",
   "metadata": {},
   "source": [
    "Notes: normalized stats for normalized sample (treat sample as rate, ie per 360k, have units. can divide by 36 and say per 10k tweets), basic stats such as len(tweets) or unique on the entire dataset\n",
    "\n",
    "tables/plots in appendix"
   ]
  },
  {
   "cell_type": "code",
   "execution_count": 5,
   "metadata": {},
   "outputs": [
    {
     "name": "stdout",
     "output_type": "stream",
     "text": [
      "Number of Tweets (of sample): 100000\n"
     ]
    }
   ],
   "source": [
    "print('Number of Tweets (of sample):', len(all_albums))"
   ]
  },
  {
   "cell_type": "code",
   "execution_count": 6,
   "metadata": {},
   "outputs": [
    {
     "name": "stdout",
     "output_type": "stream",
     "text": [
      "Number of unique users per 100k tweets: 67439\n"
     ]
    }
   ],
   "source": [
    "print('Number of unique users per 100k tweets:', all_albums.username.nunique())"
   ]
  },
  {
   "cell_type": "code",
   "execution_count": 7,
   "metadata": {},
   "outputs": [
    {
     "name": "stdout",
     "output_type": "stream",
     "text": [
      "Average number of tweets per user per 100k tweets 1.48\n"
     ]
    }
   ],
   "source": [
    "print('Average number of tweets per user per 100k tweets', round(len(all_albums) / all_albums.username.nunique(), 2))"
   ]
  },
  {
   "cell_type": "markdown",
   "metadata": {},
   "source": [
    "### Retweets/Likes\n",
    "Hypothesis (hopefully conclusion): bts has more content generators and/or they are better at getting engagement\n",
    "\n",
    "Maybe change or add per tweet per user, or just average likes/retweets per tweet. Narrative: retweets/likes show how much (meaningful) engagement a tweet got\n",
    "\n",
    "2 types of people: content generators (people who get retweeted a lot), amplifiers (people who retweet or in our case even people tweet)\n",
    "\n",
    "Notes: focus on content generators. Not the people doing the retweeting (easy to find for everyone). How effective are content generators at getting amplified (e.g. num retweets per user, high num = effective). For tweet comparisons, then add retweets (amplifiers). Explore which tweets are retweeted the most. Fandom getting retweeted == more collab. Artist/PR retweets are just marketing. Idea: manually remove artist username/PR\n",
    "\n",
    "discuss data problem: we don't have the physical retweets themselves, only numbers. so need to normalize for that for amplification: eg `taylor2.retweets_count.sum() / (len(taylor2) + taylor2.retweets_count.sum())`\n",
    "\n",
    "generally, everything in results should have baseline in eda/data section, take out distracting stuff (later)"
   ]
  },
  {
   "cell_type": "code",
   "execution_count": 18,
   "metadata": {},
   "outputs": [],
   "source": [
    "artists = ['bts_bighit', 'bts_jp_official', 'bts_twt', 'taylorswift13', 'bighitent', 'justinbieber', 'billboard']\n",
    "def percent_col(users, col, a, perc=True):\n",
    "    users = users[col].sort_values(ascending=False)\n",
    "    if perc:\n",
    "        a = int(len(users) * a)\n",
    "    prop = users.iloc[:a].sum() / users.sum()\n",
    "    return round(prop * 100, 2)"
   ]
  },
  {
   "cell_type": "code",
   "execution_count": 19,
   "metadata": {},
   "outputs": [],
   "source": [
    "def specific_percs(df, percs):\n",
    "    likes = []\n",
    "    retweets = []\n",
    "    replies = []\n",
    "    for perc in percs:\n",
    "        likes.append(percent_col(df, 'likes_count', perc))\n",
    "        retweets.append(percent_col(df, 'retweets_count', perc))\n",
    "        replies.append(percent_col(df, 'replies_count', perc))\n",
    "    return pd.DataFrame({'Likes': likes, 'Retweets': retweets, 'Replies': replies}, index=percs)"
   ]
  },
  {
   "cell_type": "code",
   "execution_count": 20,
   "metadata": {},
   "outputs": [],
   "source": [
    "def perc_plot(df, suptitle, figsize, dfs=None, legend=None):\n",
    "    \n",
    "    # if overlaid plot\n",
    "    if dfs:\n",
    "        colors = [sns.color_palette()[0]] * (len(dfs) + 1)\n",
    "        ylim = (35, 100)\n",
    "    else:\n",
    "        colors = ['#e02460', '#19cf86', '#1DA1F2']\n",
    "        ylim = (55, 100)\n",
    "    \n",
    "    # prepare lists and plot fig/ax\n",
    "    percs = np.arange(0, 0.051, 0.001)\n",
    "    perc_cols = ['likes_count', 'retweets_count', 'replies_count']\n",
    "    perc_titles = ['Likes', 'Retweets', 'Replies']\n",
    "    fig, ax = plt.subplots(1, 3, figsize=figsize)\n",
    "    fig.suptitle(suptitle, fontsize=18)\n",
    "    \n",
    "    for i in range(3):\n",
    "        # plot curve\n",
    "        curr = [percent_col(df, perc_cols[i], p) for p in percs]\n",
    "        sns.lineplot(percs*100, curr, ax=ax[i], color=colors[i])\n",
    "        \n",
    "        # overlay other df curves\n",
    "        if dfs:\n",
    "            for j in range(len(dfs)):\n",
    "                curr_df = [percent_col(dfs[j], perc_cols[i], p) for p in percs]\n",
    "                sns.lineplot(percs*100, curr_df, ax=ax[i], color=sns.color_palette()[j + 1])\n",
    "            if legend:\n",
    "                ax[i].legend(legend, loc=4)\n",
    "        ax[i].set_title('A% of Users Account for B% of ' + perc_titles[i], fontsize=15)\n",
    "        ax[i].set_xlabel('A', fontsize=13)\n",
    "        ax[i].set_ylabel('B', fontsize=13)\n",
    "        ax[i].xaxis.set_major_formatter(ticker.PercentFormatter())\n",
    "        ax[i].yaxis.set_major_formatter(ticker.PercentFormatter())\n",
    "        ax[i].set_ylim(ylim)\n",
    "    return fig"
   ]
  },
  {
   "cell_type": "markdown",
   "metadata": {},
   "source": [
    "## Album 1"
   ]
  },
  {
   "cell_type": "code",
   "execution_count": 25,
   "metadata": {},
   "outputs": [
    {
     "data": {
      "image/png": "[encoded data removed]",
      "text/plain": [
       "<Figure size 1440x504 with 3 Axes>"
      ]
     },
     "metadata": {
      "needs_background": "light"
     },
     "output_type": "display_data"
    }
   ],
   "source": [
    "perc_cols = ['likes_count', 'retweets_count', 'replies_count']\n",
    "df1 = bts1[~bts1.username.isin(artists)].groupby('username')[perc_cols].sum()\n",
    "df2 = taylor1[~taylor1.username.isin(artists)].groupby('username')[perc_cols].sum()\n",
    "df3 = justin1[~justin1.username.isin(artists)].groupby('username')[perc_cols].sum()\n",
    "f = perc_plot(df1, 'Album 1', (20, 7), [df2, df3], legend=['BTS', 'Taylor Swift', 'Justin Bieber'])"
   ]
  },
  {
   "cell_type": "code",
   "execution_count": 26,
   "metadata": {},
   "outputs": [],
   "source": [
    "f.savefig('../data/eda/twit4.png')"
   ]
  },
  {
   "cell_type": "code",
   "execution_count": 41,
   "metadata": {},
   "outputs": [
    {
     "name": "stdout",
     "output_type": "stream",
     "text": [
      "bts1\n"
     ]
    },
    {
     "data": {
      "text/html": [
       "<div>\n",
       "<style scoped>\n",
       "    .dataframe tbody tr th:only-of-type {\n",
       "        vertical-align: middle;\n",
       "    }\n",
       "\n",
       "    .dataframe tbody tr th {\n",
       "        vertical-align: top;\n",
       "    }\n",
       "\n",
       "    .dataframe thead th {\n",
       "        text-align: right;\n",
       "    }\n",
       "</style>\n",
       "<table border=\"1\" class=\"dataframe\">\n",
       "  <thead>\n",
       "    <tr style=\"text-align: right;\">\n",
       "      <th></th>\n",
       "      <th>Likes</th>\n",
       "      <th>Retweets</th>\n",
       "      <th>Replies</th>\n",
       "    </tr>\n",
       "  </thead>\n",
       "  <tbody>\n",
       "    <tr>\n",
       "      <th>0.005</th>\n",
       "      <td>80.42</td>\n",
       "      <td>80.26</td>\n",
       "      <td>70.17</td>\n",
       "    </tr>\n",
       "    <tr>\n",
       "      <th>0.010</th>\n",
       "      <td>87.13</td>\n",
       "      <td>87.32</td>\n",
       "      <td>76.86</td>\n",
       "    </tr>\n",
       "    <tr>\n",
       "      <th>0.030</th>\n",
       "      <td>93.59</td>\n",
       "      <td>94.22</td>\n",
       "      <td>87.32</td>\n",
       "    </tr>\n",
       "  </tbody>\n",
       "</table>\n",
       "</div>"
      ],
      "text/plain": [
       "       Likes  Retweets  Replies\n",
       "0.005  80.42     80.26    70.17\n",
       "0.010  87.13     87.32    76.86\n",
       "0.030  93.59     94.22    87.32"
      ]
     },
     "metadata": {},
     "output_type": "display_data"
    },
    {
     "name": "stdout",
     "output_type": "stream",
     "text": [
      "taylor1\n"
     ]
    },
    {
     "data": {
      "text/html": [
       "<div>\n",
       "<style scoped>\n",
       "    .dataframe tbody tr th:only-of-type {\n",
       "        vertical-align: middle;\n",
       "    }\n",
       "\n",
       "    .dataframe tbody tr th {\n",
       "        vertical-align: top;\n",
       "    }\n",
       "\n",
       "    .dataframe thead th {\n",
       "        text-align: right;\n",
       "    }\n",
       "</style>\n",
       "<table border=\"1\" class=\"dataframe\">\n",
       "  <thead>\n",
       "    <tr style=\"text-align: right;\">\n",
       "      <th></th>\n",
       "      <th>Likes</th>\n",
       "      <th>Retweets</th>\n",
       "      <th>Replies</th>\n",
       "    </tr>\n",
       "  </thead>\n",
       "  <tbody>\n",
       "    <tr>\n",
       "      <th>0.005</th>\n",
       "      <td>70.29</td>\n",
       "      <td>82.16</td>\n",
       "      <td>52.16</td>\n",
       "    </tr>\n",
       "    <tr>\n",
       "      <th>0.010</th>\n",
       "      <td>75.16</td>\n",
       "      <td>86.87</td>\n",
       "      <td>58.71</td>\n",
       "    </tr>\n",
       "    <tr>\n",
       "      <th>0.030</th>\n",
       "      <td>82.31</td>\n",
       "      <td>92.80</td>\n",
       "      <td>71.63</td>\n",
       "    </tr>\n",
       "  </tbody>\n",
       "</table>\n",
       "</div>"
      ],
      "text/plain": [
       "       Likes  Retweets  Replies\n",
       "0.005  70.29     82.16    52.16\n",
       "0.010  75.16     86.87    58.71\n",
       "0.030  82.31     92.80    71.63"
      ]
     },
     "metadata": {},
     "output_type": "display_data"
    },
    {
     "name": "stdout",
     "output_type": "stream",
     "text": [
      "justin1\n"
     ]
    },
    {
     "data": {
      "text/html": [
       "<div>\n",
       "<style scoped>\n",
       "    .dataframe tbody tr th:only-of-type {\n",
       "        vertical-align: middle;\n",
       "    }\n",
       "\n",
       "    .dataframe tbody tr th {\n",
       "        vertical-align: top;\n",
       "    }\n",
       "\n",
       "    .dataframe thead th {\n",
       "        text-align: right;\n",
       "    }\n",
       "</style>\n",
       "<table border=\"1\" class=\"dataframe\">\n",
       "  <thead>\n",
       "    <tr style=\"text-align: right;\">\n",
       "      <th></th>\n",
       "      <th>Likes</th>\n",
       "      <th>Retweets</th>\n",
       "      <th>Replies</th>\n",
       "    </tr>\n",
       "  </thead>\n",
       "  <tbody>\n",
       "    <tr>\n",
       "      <th>0.005</th>\n",
       "      <td>80.65</td>\n",
       "      <td>82.06</td>\n",
       "      <td>47.96</td>\n",
       "    </tr>\n",
       "    <tr>\n",
       "      <th>0.010</th>\n",
       "      <td>84.06</td>\n",
       "      <td>85.16</td>\n",
       "      <td>52.59</td>\n",
       "    </tr>\n",
       "    <tr>\n",
       "      <th>0.030</th>\n",
       "      <td>90.92</td>\n",
       "      <td>90.77</td>\n",
       "      <td>64.19</td>\n",
       "    </tr>\n",
       "  </tbody>\n",
       "</table>\n",
       "</div>"
      ],
      "text/plain": [
       "       Likes  Retweets  Replies\n",
       "0.005  80.65     82.06    47.96\n",
       "0.010  84.06     85.16    52.59\n",
       "0.030  90.92     90.77    64.19"
      ]
     },
     "metadata": {},
     "output_type": "display_data"
    }
   ],
   "source": [
    "p11 = specific_percs(df1, [0.005, 0.01, 0.03])\n",
    "print('bts1')\n",
    "display(p11)\n",
    "p12 = specific_percs(df2, [0.005, 0.01, 0.03])\n",
    "print('taylor1')\n",
    "display(p12)\n",
    "p13 = specific_percs(df3, [0.005, 0.01, 0.03])\n",
    "print('justin1')\n",
    "display(p13)"
   ]
  },
  {
   "cell_type": "markdown",
   "metadata": {},
   "source": [
    "## Album 2"
   ]
  },
  {
   "cell_type": "code",
   "execution_count": 27,
   "metadata": {},
   "outputs": [
    {
     "data": {
      "image/png": "[encoded data removed]",
      "text/plain": [
       "<Figure size 1440x504 with 3 Axes>"
      ]
     },
     "metadata": {
      "needs_background": "light"
     },
     "output_type": "display_data"
    }
   ],
   "source": [
    "perc_cols = ['likes_count', 'retweets_count', 'replies_count']\n",
    "df1 = bts2[~bts2.username.isin(artists)].groupby('username')[perc_cols].sum()\n",
    "df2 = taylor2[~taylor2.username.isin(artists)].groupby('username')[perc_cols].sum()\n",
    "df3 = justin2[~justin2.username.isin(artists)].groupby('username')[perc_cols].sum()\n",
    "f = perc_plot(df1, 'Album 2', (20, 7), [df2, df3], legend=['BTS', 'Taylor Swift', 'Justin Bieber'])"
   ]
  },
  {
   "cell_type": "code",
   "execution_count": 28,
   "metadata": {},
   "outputs": [],
   "source": [
    "f.savefig('../data/eda/twit5.png')"
   ]
  },
  {
   "cell_type": "code",
   "execution_count": 44,
   "metadata": {},
   "outputs": [
    {
     "name": "stdout",
     "output_type": "stream",
     "text": [
      "bts2\n"
     ]
    },
    {
     "data": {
      "text/html": [
       "<div>\n",
       "<style scoped>\n",
       "    .dataframe tbody tr th:only-of-type {\n",
       "        vertical-align: middle;\n",
       "    }\n",
       "\n",
       "    .dataframe tbody tr th {\n",
       "        vertical-align: top;\n",
       "    }\n",
       "\n",
       "    .dataframe thead th {\n",
       "        text-align: right;\n",
       "    }\n",
       "</style>\n",
       "<table border=\"1\" class=\"dataframe\">\n",
       "  <thead>\n",
       "    <tr style=\"text-align: right;\">\n",
       "      <th></th>\n",
       "      <th>Likes</th>\n",
       "      <th>Retweets</th>\n",
       "      <th>Replies</th>\n",
       "    </tr>\n",
       "  </thead>\n",
       "  <tbody>\n",
       "    <tr>\n",
       "      <th>0.005</th>\n",
       "      <td>91.64</td>\n",
       "      <td>90.77</td>\n",
       "      <td>78.12</td>\n",
       "    </tr>\n",
       "    <tr>\n",
       "      <th>0.010</th>\n",
       "      <td>95.81</td>\n",
       "      <td>95.17</td>\n",
       "      <td>84.72</td>\n",
       "    </tr>\n",
       "    <tr>\n",
       "      <th>0.030</th>\n",
       "      <td>98.29</td>\n",
       "      <td>98.04</td>\n",
       "      <td>92.28</td>\n",
       "    </tr>\n",
       "  </tbody>\n",
       "</table>\n",
       "</div>"
      ],
      "text/plain": [
       "       Likes  Retweets  Replies\n",
       "0.005  91.64     90.77    78.12\n",
       "0.010  95.81     95.17    84.72\n",
       "0.030  98.29     98.04    92.28"
      ]
     },
     "metadata": {},
     "output_type": "display_data"
    },
    {
     "name": "stdout",
     "output_type": "stream",
     "text": [
      "taylor2\n"
     ]
    },
    {
     "data": {
      "text/html": [
       "<div>\n",
       "<style scoped>\n",
       "    .dataframe tbody tr th:only-of-type {\n",
       "        vertical-align: middle;\n",
       "    }\n",
       "\n",
       "    .dataframe tbody tr th {\n",
       "        vertical-align: top;\n",
       "    }\n",
       "\n",
       "    .dataframe thead th {\n",
       "        text-align: right;\n",
       "    }\n",
       "</style>\n",
       "<table border=\"1\" class=\"dataframe\">\n",
       "  <thead>\n",
       "    <tr style=\"text-align: right;\">\n",
       "      <th></th>\n",
       "      <th>Likes</th>\n",
       "      <th>Retweets</th>\n",
       "      <th>Replies</th>\n",
       "    </tr>\n",
       "  </thead>\n",
       "  <tbody>\n",
       "    <tr>\n",
       "      <th>0.005</th>\n",
       "      <td>73.85</td>\n",
       "      <td>79.89</td>\n",
       "      <td>69.19</td>\n",
       "    </tr>\n",
       "    <tr>\n",
       "      <th>0.010</th>\n",
       "      <td>80.79</td>\n",
       "      <td>86.21</td>\n",
       "      <td>74.98</td>\n",
       "    </tr>\n",
       "    <tr>\n",
       "      <th>0.030</th>\n",
       "      <td>88.38</td>\n",
       "      <td>93.11</td>\n",
       "      <td>84.21</td>\n",
       "    </tr>\n",
       "  </tbody>\n",
       "</table>\n",
       "</div>"
      ],
      "text/plain": [
       "       Likes  Retweets  Replies\n",
       "0.005  73.85     79.89    69.19\n",
       "0.010  80.79     86.21    74.98\n",
       "0.030  88.38     93.11    84.21"
      ]
     },
     "metadata": {},
     "output_type": "display_data"
    },
    {
     "name": "stdout",
     "output_type": "stream",
     "text": [
      "justin2\n"
     ]
    },
    {
     "data": {
      "text/html": [
       "<div>\n",
       "<style scoped>\n",
       "    .dataframe tbody tr th:only-of-type {\n",
       "        vertical-align: middle;\n",
       "    }\n",
       "\n",
       "    .dataframe tbody tr th {\n",
       "        vertical-align: top;\n",
       "    }\n",
       "\n",
       "    .dataframe thead th {\n",
       "        text-align: right;\n",
       "    }\n",
       "</style>\n",
       "<table border=\"1\" class=\"dataframe\">\n",
       "  <thead>\n",
       "    <tr style=\"text-align: right;\">\n",
       "      <th></th>\n",
       "      <th>Likes</th>\n",
       "      <th>Retweets</th>\n",
       "      <th>Replies</th>\n",
       "    </tr>\n",
       "  </thead>\n",
       "  <tbody>\n",
       "    <tr>\n",
       "      <th>0.005</th>\n",
       "      <td>75.92</td>\n",
       "      <td>83.67</td>\n",
       "      <td>49.47</td>\n",
       "    </tr>\n",
       "    <tr>\n",
       "      <th>0.010</th>\n",
       "      <td>81.98</td>\n",
       "      <td>89.50</td>\n",
       "      <td>57.86</td>\n",
       "    </tr>\n",
       "    <tr>\n",
       "      <th>0.030</th>\n",
       "      <td>88.99</td>\n",
       "      <td>94.95</td>\n",
       "      <td>72.80</td>\n",
       "    </tr>\n",
       "  </tbody>\n",
       "</table>\n",
       "</div>"
      ],
      "text/plain": [
       "       Likes  Retweets  Replies\n",
       "0.005  75.92     83.67    49.47\n",
       "0.010  81.98     89.50    57.86\n",
       "0.030  88.99     94.95    72.80"
      ]
     },
     "metadata": {},
     "output_type": "display_data"
    }
   ],
   "source": [
    "p21 = specific_percs(df1, [0.005, 0.01, 0.03])\n",
    "print('bts2')\n",
    "display(p21)\n",
    "p22 = specific_percs(df2, [0.005, 0.01, 0.03])\n",
    "print('taylor2')\n",
    "display(p22)\n",
    "p23 = specific_percs(df3, [0.005, 0.01, 0.03])\n",
    "print('justin2')\n",
    "display(p23)"
   ]
  },
  {
   "cell_type": "markdown",
   "metadata": {},
   "source": [
    "## Album 3"
   ]
  },
  {
   "cell_type": "code",
   "execution_count": 29,
   "metadata": {},
   "outputs": [
    {
     "data": {
      "image/png": "[encoded data removed]",
      "text/plain": [
       "<Figure size 1440x504 with 3 Axes>"
      ]
     },
     "metadata": {
      "needs_background": "light"
     },
     "output_type": "display_data"
    }
   ],
   "source": [
    "perc_cols = ['likes_count', 'retweets_count', 'replies_count']\n",
    "df1 = bts3[~bts3.username.isin(artists)].groupby('username')[perc_cols].sum()\n",
    "df2 = taylor3[~taylor3.username.isin(artists)].groupby('username')[perc_cols].sum()\n",
    "df3 = justin3[~justin3.username.isin(artists)].groupby('username')[perc_cols].sum()\n",
    "f = perc_plot(df1, 'Album 3', (20, 7), [df2, df3], legend=['BTS', 'Taylor Swift', 'Justin Bieber'])"
   ]
  },
  {
   "cell_type": "code",
   "execution_count": 30,
   "metadata": {},
   "outputs": [],
   "source": [
    "f.savefig('../data/eda/twit6.png')"
   ]
  },
  {
   "cell_type": "code",
   "execution_count": 45,
   "metadata": {},
   "outputs": [
    {
     "name": "stdout",
     "output_type": "stream",
     "text": [
      "bts3\n"
     ]
    },
    {
     "data": {
      "text/html": [
       "<div>\n",
       "<style scoped>\n",
       "    .dataframe tbody tr th:only-of-type {\n",
       "        vertical-align: middle;\n",
       "    }\n",
       "\n",
       "    .dataframe tbody tr th {\n",
       "        vertical-align: top;\n",
       "    }\n",
       "\n",
       "    .dataframe thead th {\n",
       "        text-align: right;\n",
       "    }\n",
       "</style>\n",
       "<table border=\"1\" class=\"dataframe\">\n",
       "  <thead>\n",
       "    <tr style=\"text-align: right;\">\n",
       "      <th></th>\n",
       "      <th>Likes</th>\n",
       "      <th>Retweets</th>\n",
       "      <th>Replies</th>\n",
       "    </tr>\n",
       "  </thead>\n",
       "  <tbody>\n",
       "    <tr>\n",
       "      <th>0.005</th>\n",
       "      <td>91.64</td>\n",
       "      <td>90.77</td>\n",
       "      <td>78.12</td>\n",
       "    </tr>\n",
       "    <tr>\n",
       "      <th>0.010</th>\n",
       "      <td>95.81</td>\n",
       "      <td>95.17</td>\n",
       "      <td>84.72</td>\n",
       "    </tr>\n",
       "    <tr>\n",
       "      <th>0.030</th>\n",
       "      <td>98.29</td>\n",
       "      <td>98.04</td>\n",
       "      <td>92.28</td>\n",
       "    </tr>\n",
       "  </tbody>\n",
       "</table>\n",
       "</div>"
      ],
      "text/plain": [
       "       Likes  Retweets  Replies\n",
       "0.005  91.64     90.77    78.12\n",
       "0.010  95.81     95.17    84.72\n",
       "0.030  98.29     98.04    92.28"
      ]
     },
     "metadata": {},
     "output_type": "display_data"
    },
    {
     "name": "stdout",
     "output_type": "stream",
     "text": [
      "taylor3\n"
     ]
    },
    {
     "data": {
      "text/html": [
       "<div>\n",
       "<style scoped>\n",
       "    .dataframe tbody tr th:only-of-type {\n",
       "        vertical-align: middle;\n",
       "    }\n",
       "\n",
       "    .dataframe tbody tr th {\n",
       "        vertical-align: top;\n",
       "    }\n",
       "\n",
       "    .dataframe thead th {\n",
       "        text-align: right;\n",
       "    }\n",
       "</style>\n",
       "<table border=\"1\" class=\"dataframe\">\n",
       "  <thead>\n",
       "    <tr style=\"text-align: right;\">\n",
       "      <th></th>\n",
       "      <th>Likes</th>\n",
       "      <th>Retweets</th>\n",
       "      <th>Replies</th>\n",
       "    </tr>\n",
       "  </thead>\n",
       "  <tbody>\n",
       "    <tr>\n",
       "      <th>0.005</th>\n",
       "      <td>73.85</td>\n",
       "      <td>79.89</td>\n",
       "      <td>69.19</td>\n",
       "    </tr>\n",
       "    <tr>\n",
       "      <th>0.010</th>\n",
       "      <td>80.79</td>\n",
       "      <td>86.21</td>\n",
       "      <td>74.98</td>\n",
       "    </tr>\n",
       "    <tr>\n",
       "      <th>0.030</th>\n",
       "      <td>88.38</td>\n",
       "      <td>93.11</td>\n",
       "      <td>84.21</td>\n",
       "    </tr>\n",
       "  </tbody>\n",
       "</table>\n",
       "</div>"
      ],
      "text/plain": [
       "       Likes  Retweets  Replies\n",
       "0.005  73.85     79.89    69.19\n",
       "0.010  80.79     86.21    74.98\n",
       "0.030  88.38     93.11    84.21"
      ]
     },
     "metadata": {},
     "output_type": "display_data"
    },
    {
     "name": "stdout",
     "output_type": "stream",
     "text": [
      "justin3\n"
     ]
    },
    {
     "data": {
      "text/html": [
       "<div>\n",
       "<style scoped>\n",
       "    .dataframe tbody tr th:only-of-type {\n",
       "        vertical-align: middle;\n",
       "    }\n",
       "\n",
       "    .dataframe tbody tr th {\n",
       "        vertical-align: top;\n",
       "    }\n",
       "\n",
       "    .dataframe thead th {\n",
       "        text-align: right;\n",
       "    }\n",
       "</style>\n",
       "<table border=\"1\" class=\"dataframe\">\n",
       "  <thead>\n",
       "    <tr style=\"text-align: right;\">\n",
       "      <th></th>\n",
       "      <th>Likes</th>\n",
       "      <th>Retweets</th>\n",
       "      <th>Replies</th>\n",
       "    </tr>\n",
       "  </thead>\n",
       "  <tbody>\n",
       "    <tr>\n",
       "      <th>0.005</th>\n",
       "      <td>75.92</td>\n",
       "      <td>83.67</td>\n",
       "      <td>49.47</td>\n",
       "    </tr>\n",
       "    <tr>\n",
       "      <th>0.010</th>\n",
       "      <td>81.98</td>\n",
       "      <td>89.50</td>\n",
       "      <td>57.86</td>\n",
       "    </tr>\n",
       "    <tr>\n",
       "      <th>0.030</th>\n",
       "      <td>88.99</td>\n",
       "      <td>94.95</td>\n",
       "      <td>72.80</td>\n",
       "    </tr>\n",
       "  </tbody>\n",
       "</table>\n",
       "</div>"
      ],
      "text/plain": [
       "       Likes  Retweets  Replies\n",
       "0.005  75.92     83.67    49.47\n",
       "0.010  81.98     89.50    57.86\n",
       "0.030  88.99     94.95    72.80"
      ]
     },
     "metadata": {},
     "output_type": "display_data"
    }
   ],
   "source": [
    "p31 = specific_percs(df1, [0.005, 0.01, 0.03])\n",
    "print('bts3')\n",
    "display(p31)\n",
    "p32 = specific_percs(df2, [0.005, 0.01, 0.03])\n",
    "print('taylor3')\n",
    "display(p32)\n",
    "p33 = specific_percs(df3, [0.005, 0.01, 0.03])\n",
    "print('justin3')\n",
    "display(p33)"
   ]
  },
  {
   "cell_type": "markdown",
   "metadata": {},
   "source": [
    "### User/Tweet stats\n",
    "a% of people made b% of tweets. table is good. do for retweets and maybe likes. idea: pick intersting or easily understandable number, and whole table in appendix"
   ]
  },
  {
   "cell_type": "code",
   "execution_count": 93,
   "metadata": {},
   "outputs": [
    {
     "data": {
      "text/plain": [
       "38.05"
      ]
     },
     "execution_count": 93,
     "metadata": {},
     "output_type": "execute_result"
    }
   ],
   "source": [
    "percent_tweets(bts3, 0.03)"
   ]
  },
  {
   "cell_type": "code",
   "execution_count": 94,
   "metadata": {},
   "outputs": [
    {
     "data": {
      "text/plain": [
       "33.0"
      ]
     },
     "execution_count": 94,
     "metadata": {},
     "output_type": "execute_result"
    }
   ],
   "source": [
    "percent_tweets(taylor3, 0.03)"
   ]
  },
  {
   "cell_type": "code",
   "execution_count": 51,
   "metadata": {},
   "outputs": [
    {
     "data": {
      "text/plain": [
       "20.86"
      ]
     },
     "execution_count": 51,
     "metadata": {},
     "output_type": "execute_result"
    }
   ],
   "source": [
    "percent_tweets(all_albums, 0.03)"
   ]
  },
  {
   "cell_type": "code",
   "execution_count": 52,
   "metadata": {},
   "outputs": [],
   "source": [
    "percs = []\n",
    "for i in np.arange(0.01, 0.11, 0.01):\n",
    "    percs.append(percent_tweets(all_albums, i))"
   ]
  },
  {
   "cell_type": "code",
   "execution_count": 54,
   "metadata": {},
   "outputs": [
    {
     "data": {
      "image/png": "[encoded data removed]",
      "text/plain": [
       "<Figure size 432x288 with 1 Axes>"
      ]
     },
     "metadata": {
      "needs_background": "light"
     },
     "output_type": "display_data"
    }
   ],
   "source": [
    "perc_df = pd.DataFrame().assign(a=np.arange(0.01, 0.11, 0.01)*100, b=percs)\n",
    "perc_df.plot(x='a', y='b', title='a% of people made b% of tweets', ylabel='b', legend=False);"
   ]
  },
  {
   "cell_type": "markdown",
   "metadata": {},
   "source": [
    "### Tweets per day"
   ]
  },
  {
   "cell_type": "markdown",
   "metadata": {},
   "source": [
    "The spike on \"day 12\" was due to Justin Bieber's first album, which had a huge spike on day 12 (the day an additional single was released). I don't know if that's bad for our \"sample\" dataset... but it's what the data's giving us."
   ]
  },
  {
   "cell_type": "code",
   "execution_count": 56,
   "metadata": {},
   "outputs": [
    {
     "data": {
      "image/png": "[encoded data removed]",
      "text/plain": [
       "<Figure size 432x288 with 1 Axes>"
      ]
     },
     "metadata": {
      "needs_background": "light"
     },
     "output_type": "display_data"
    }
   ],
   "source": [
    "tweets_per_day = all_albums.normalized_dates.value_counts().sort_index()\n",
    "tweets_per_day.plot(title='Tweets per day', xlabel='Day with respect to album release', ylabel='Number of tweets per user');"
   ]
  },
  {
   "cell_type": "code",
   "execution_count": 57,
   "metadata": {
    "scrolled": true
   },
   "outputs": [
    {
     "data": {
      "image/png": "[encoded data removed]",
      "text/plain": [
       "<Figure size 432x288 with 1 Axes>"
      ]
     },
     "metadata": {
      "needs_background": "light"
     },
     "output_type": "display_data"
    }
   ],
   "source": [
    "tweets_users_day = all_albums.groupby('normalized_dates').username.apply(lambda x: x.value_counts().mean())\n",
    "tweets_users_day.plot(title='Tweets per user per day', xlabel='Day with respect to album release', ylabel='Number of tweets per user');"
   ]
  },
  {
   "cell_type": "markdown",
   "metadata": {},
   "source": [
    "## Hashtags\n",
    "Running count of each hastag, how commonly subsets of hashtags are used. Hashtags imply coordination. Hard to tell who coordinating, but still coordination if eg if a lot of tweets share x hashtags\n",
    "\n",
    "Treat as a graph. Query hashtags == edges, picked out all nodes with those edges types. other hashtags are other edge types. If other tweets are connected by the other hashtags, indicates collaboration (chances of that from a \"random\" twitter graph is really low). If a lot of the other hashtags, more hashtags associated with campaigns.\n",
    "\n",
    "Idea: look at n most common non-query hashtags. see if they are co-appearing. a way to measure content generators collaborating, not just \"being productive\" getting retweets. "
   ]
  },
  {
   "cell_type": "code",
   "execution_count": 5,
   "metadata": {},
   "outputs": [
    {
     "data": {
      "text/plain": [
       "2.63369"
      ]
     },
     "execution_count": 5,
     "metadata": {},
     "output_type": "execute_result"
    }
   ],
   "source": [
    "all_albums.num_hashtags.mean()"
   ]
  },
  {
   "cell_type": "code",
   "execution_count": 9,
   "metadata": {},
   "outputs": [],
   "source": [
    "all_albums['hashtags'] = all_albums.hashtags.apply(lambda x: eval(x))"
   ]
  },
  {
   "cell_type": "code",
   "execution_count": 3,
   "metadata": {},
   "outputs": [],
   "source": [
    "bts1['hashtags_lst'] = bts1.hashtags.apply(lambda x: eval(x))\n",
    "taylor1['hashtags_lst'] = taylor1.hashtags.apply(lambda x: eval(x))\n",
    "justin1['hashtags_lst'] = justin1.hashtags.apply(lambda x: eval(x))\n",
    "\n",
    "bts2['hashtags_lst'] = bts2.hashtags.apply(lambda x: eval(x))\n",
    "taylor2['hashtags_lst'] = taylor2.hashtags.apply(lambda x: eval(x))\n",
    "justin2['hashtags_lst'] = justin2.hashtags.apply(lambda x: eval(x))\n",
    "\n",
    "bts3['hashtags_lst'] = bts3.hashtags.apply(lambda x: eval(x))\n",
    "taylor3['hashtags_lst'] = taylor3.hashtags.apply(lambda x: eval(x))\n",
    "justin3['hashtags_lst'] = justin3.hashtags.apply(lambda x: eval(x))"
   ]
  },
  {
   "cell_type": "code",
   "execution_count": 22,
   "metadata": {},
   "outputs": [],
   "source": [
    "bts_hashs = [df.hashtags_lst.apply(lambda x: len(x)).mean() for df in [bts1, bts2, bts3]]\n",
    "taylor_hashs = [df.hashtags_lst.apply(lambda x: len(x)).mean() for df in [taylor1, taylor2, taylor3]]\n",
    "justin_hashs = [df.hashtags_lst.apply(lambda x: len(x)).mean() for df in [justin1, justin2, justin3]]\n",
    "x_hashs = ['Album 1', 'Album 2', 'Album 3']"
   ]
  },
  {
   "cell_type": "code",
   "execution_count": 23,
   "metadata": {},
   "outputs": [
    {
     "data": {
      "text/plain": [
       "<matplotlib.legend.Legend at 0x192e54c9dc8>"
      ]
     },
     "execution_count": 23,
     "metadata": {},
     "output_type": "execute_result"
    },
    {
     "data": {
      "image/png": "[encoded data removed]",
      "text/plain": [
       "<Figure size 720x360 with 1 Axes>"
      ]
     },
     "metadata": {
      "needs_background": "light"
     },
     "output_type": "display_data"
    }
   ],
   "source": [
    "fig, ax = plt.subplots(figsize=(10,5))\n",
    "sns.lineplot(x_hashs, bts_hashs, ax=ax)\n",
    "sns.lineplot(x_hashs, taylor_hashs, ax=ax)\n",
    "sns.lineplot(x_hashs, justin_hashs, ax=ax)\n",
    "ax.set_title('Average Number of Hashtags per Tweet', fontsize=15)\n",
    "ax.set_xlabel('Album Release', fontsize=13)\n",
    "ax.set_ylabel('Number of Hashtags', fontsize=13)\n",
    "ax.legend(['BTS', 'Taylor Swift', 'Justin Bieber'])"
   ]
  },
  {
   "cell_type": "markdown",
   "metadata": {},
   "source": [
    "Notes: why are hashtags used (e.g. hashtags that coincide with bbmas). Types of hashtags: promotion, call to arms. Idea: pick one example for each artist (album maybe?) e.g. 'btsarmy'\n",
    "\n",
    "Interesting to study hashtags that amplify "
   ]
  },
  {
   "cell_type": "code",
   "execution_count": 4,
   "metadata": {},
   "outputs": [],
   "source": [
    "bts1_exploded = bts1.explode('hashtags_lst')\n",
    "taylor1_exploded = taylor1.explode('hashtags_lst')\n",
    "justin1_exploded = justin1.explode('hashtags_lst')\n",
    "\n",
    "bts2_exploded = bts2.explode('hashtags_lst')\n",
    "taylor2_exploded = taylor2.explode('hashtags_lst')\n",
    "justin2_exploded = justin2.explode('hashtags_lst')\n",
    "\n",
    "bts3_exploded = bts3.explode('hashtags_lst')\n",
    "taylor3_exploded = taylor3.explode('hashtags_lst')\n",
    "justin3_exploded = justin3.explode('hashtags_lst')"
   ]
  },
  {
   "cell_type": "code",
   "execution_count": 5,
   "metadata": {},
   "outputs": [
    {
     "data": {
      "text/html": [
       "<div>\n",
       "<style scoped>\n",
       "    .dataframe tbody tr th:only-of-type {\n",
       "        vertical-align: middle;\n",
       "    }\n",
       "\n",
       "    .dataframe tbody tr th {\n",
       "        vertical-align: top;\n",
       "    }\n",
       "\n",
       "    .dataframe thead th {\n",
       "        text-align: right;\n",
       "    }\n",
       "</style>\n",
       "<table border=\"1\" class=\"dataframe\">\n",
       "  <thead>\n",
       "    <tr style=\"text-align: right;\">\n",
       "      <th></th>\n",
       "      <th>date</th>\n",
       "      <th>user_id</th>\n",
       "      <th>username</th>\n",
       "      <th>tweet</th>\n",
       "      <th>replies_count</th>\n",
       "      <th>retweets_count</th>\n",
       "      <th>likes_count</th>\n",
       "      <th>hashtags</th>\n",
       "      <th>retweet</th>\n",
       "      <th>normalized_dates</th>\n",
       "      <th>hashtags_lst</th>\n",
       "    </tr>\n",
       "  </thead>\n",
       "  <tbody>\n",
       "    <tr>\n",
       "      <th>29</th>\n",
       "      <td>2020-12-01</td>\n",
       "      <td>1268674849158959111</td>\n",
       "      <td>jikookisrealuu</td>\n",
       "      <td>Can’t tell how happy I’m 😭😭😭💜 Jin military ser...</td>\n",
       "      <td>1</td>\n",
       "      <td>0</td>\n",
       "      <td>0</td>\n",
       "      <td>['bts', 'btsjin', 'jin', 'kimseokjin', 'army',...</td>\n",
       "      <td>False</td>\n",
       "      <td>11</td>\n",
       "      <td>[bts, btsjin, jin, kimseokjin, army, btsamas]</td>\n",
       "    </tr>\n",
       "    <tr>\n",
       "      <th>53</th>\n",
       "      <td>2020-12-01</td>\n",
       "      <td>1033336057398472705</td>\n",
       "      <td>moonchild1992</td>\n",
       "      <td>We cute.   #ARSD #ARMYSelcaDay #BTS #NAMJOON #...</td>\n",
       "      <td>1</td>\n",
       "      <td>0</td>\n",
       "      <td>13</td>\n",
       "      <td>['arsd', 'armyselcaday', 'bts', 'namjoon', 'rm...</td>\n",
       "      <td>False</td>\n",
       "      <td>11</td>\n",
       "      <td>[arsd, armyselcaday, bts, namjoon, rm, btsarmy]</td>\n",
       "    </tr>\n",
       "    <tr>\n",
       "      <th>59</th>\n",
       "      <td>2020-12-01</td>\n",
       "      <td>919682239088267264</td>\n",
       "      <td>bts_unitedlatam</td>\n",
       "      <td>&amp;gt;011220&amp;lt; [INFO] BTS extendió su récord e...</td>\n",
       "      <td>0</td>\n",
       "      <td>0</td>\n",
       "      <td>0</td>\n",
       "      <td>['bts', 'btsarmy', 'bts_be']</td>\n",
       "      <td>False</td>\n",
       "      <td>11</td>\n",
       "      <td>[bts, btsarmy, bts_be]</td>\n",
       "    </tr>\n",
       "    <tr>\n",
       "      <th>71</th>\n",
       "      <td>2020-12-01</td>\n",
       "      <td>3764591832</td>\n",
       "      <td>mizuki_shizen</td>\n",
       "      <td>Hey na na na @BTS_twt #BETODAY #ARMY #BTSARMY ...</td>\n",
       "      <td>0</td>\n",
       "      <td>1</td>\n",
       "      <td>1</td>\n",
       "      <td>['betoday', 'army', 'btsarmy', 'bts', 'be', 'l...</td>\n",
       "      <td>False</td>\n",
       "      <td>11</td>\n",
       "      <td>[betoday, army, btsarmy, bts, be, lifegoeson]</td>\n",
       "    </tr>\n",
       "    <tr>\n",
       "      <th>72</th>\n",
       "      <td>2020-12-01</td>\n",
       "      <td>1108385386668023809</td>\n",
       "      <td>baby9486a</td>\n",
       "      <td>https://t.co/hE4byVOWyw 인터파크 투표부탁드려요 #AlwaysW...</td>\n",
       "      <td>0</td>\n",
       "      <td>5</td>\n",
       "      <td>2</td>\n",
       "      <td>['alwayswithbts', 'bts', 'btsarmy']</td>\n",
       "      <td>False</td>\n",
       "      <td>11</td>\n",
       "      <td>[alwayswithbts, bts, btsarmy]</td>\n",
       "    </tr>\n",
       "  </tbody>\n",
       "</table>\n",
       "</div>"
      ],
      "text/plain": [
       "          date              user_id         username  \\\n",
       "29  2020-12-01  1268674849158959111   jikookisrealuu   \n",
       "53  2020-12-01  1033336057398472705    moonchild1992   \n",
       "59  2020-12-01   919682239088267264  bts_unitedlatam   \n",
       "71  2020-12-01           3764591832    mizuki_shizen   \n",
       "72  2020-12-01  1108385386668023809        baby9486a   \n",
       "\n",
       "                                                tweet  replies_count  \\\n",
       "29  Can’t tell how happy I’m 😭😭😭💜 Jin military ser...              1   \n",
       "53  We cute.   #ARSD #ARMYSelcaDay #BTS #NAMJOON #...              1   \n",
       "59  &gt;011220&lt; [INFO] BTS extendió su récord e...              0   \n",
       "71  Hey na na na @BTS_twt #BETODAY #ARMY #BTSARMY ...              0   \n",
       "72   https://t.co/hE4byVOWyw 인터파크 투표부탁드려요 #AlwaysW...              0   \n",
       "\n",
       "    retweets_count  likes_count  \\\n",
       "29               0            0   \n",
       "53               0           13   \n",
       "59               0            0   \n",
       "71               1            1   \n",
       "72               5            2   \n",
       "\n",
       "                                             hashtags  retweet  \\\n",
       "29  ['bts', 'btsjin', 'jin', 'kimseokjin', 'army',...    False   \n",
       "53  ['arsd', 'armyselcaday', 'bts', 'namjoon', 'rm...    False   \n",
       "59                       ['bts', 'btsarmy', 'bts_be']    False   \n",
       "71  ['betoday', 'army', 'btsarmy', 'bts', 'be', 'l...    False   \n",
       "72                ['alwayswithbts', 'bts', 'btsarmy']    False   \n",
       "\n",
       "    normalized_dates                                     hashtags_lst  \n",
       "29                11    [bts, btsjin, jin, kimseokjin, army, btsamas]  \n",
       "53                11  [arsd, armyselcaday, bts, namjoon, rm, btsarmy]  \n",
       "59                11                           [bts, btsarmy, bts_be]  \n",
       "71                11    [betoday, army, btsarmy, bts, be, lifegoeson]  \n",
       "72                11                    [alwayswithbts, bts, btsarmy]  "
      ]
     },
     "execution_count": 5,
     "metadata": {},
     "output_type": "execute_result"
    }
   ],
   "source": [
    "army = bts3[bts3.hashtags.str.contains('army')]\n",
    "army.head()"
   ]
  },
  {
   "cell_type": "code",
   "execution_count": 34,
   "metadata": {},
   "outputs": [],
   "source": [
    "tot_bts3_likes = bts3[~bts3.username.isin(artists)].retweets_count.sum()"
   ]
  },
  {
   "cell_type": "code",
   "execution_count": 48,
   "metadata": {},
   "outputs": [
    {
     "data": {
      "text/plain": [
       "0.728415027932042"
      ]
     },
     "execution_count": 48,
     "metadata": {},
     "output_type": "execute_result"
    }
   ],
   "source": [
    "army.replies_count.mean()"
   ]
  },
  {
   "cell_type": "code",
   "execution_count": 61,
   "metadata": {},
   "outputs": [
    {
     "data": {
      "text/html": [
       "<div>\n",
       "<style scoped>\n",
       "    .dataframe tbody tr th:only-of-type {\n",
       "        vertical-align: middle;\n",
       "    }\n",
       "\n",
       "    .dataframe tbody tr th {\n",
       "        vertical-align: top;\n",
       "    }\n",
       "\n",
       "    .dataframe thead th {\n",
       "        text-align: right;\n",
       "    }\n",
       "</style>\n",
       "<table border=\"1\" class=\"dataframe\">\n",
       "  <thead>\n",
       "    <tr style=\"text-align: right;\">\n",
       "      <th></th>\n",
       "      <th>Hashtag</th>\n",
       "      <th>y</th>\n",
       "      <th>x</th>\n",
       "    </tr>\n",
       "  </thead>\n",
       "  <tbody>\n",
       "    <tr>\n",
       "      <th>0</th>\n",
       "      <td>#army</td>\n",
       "      <td>30.504005</td>\n",
       "      <td>Likes</td>\n",
       "    </tr>\n",
       "    <tr>\n",
       "      <th>1</th>\n",
       "      <td>#army</td>\n",
       "      <td>6.808960</td>\n",
       "      <td>Likes</td>\n",
       "    </tr>\n",
       "    <tr>\n",
       "      <th>2</th>\n",
       "      <td>#army</td>\n",
       "      <td>0.728415</td>\n",
       "      <td>Likes</td>\n",
       "    </tr>\n",
       "    <tr>\n",
       "      <th>3</th>\n",
       "      <td>#proudoftaylor</td>\n",
       "      <td>9.284314</td>\n",
       "      <td>Retweets</td>\n",
       "    </tr>\n",
       "    <tr>\n",
       "      <th>4</th>\n",
       "      <td>#proudoftaylor</td>\n",
       "      <td>1.506209</td>\n",
       "      <td>Retweets</td>\n",
       "    </tr>\n",
       "    <tr>\n",
       "      <th>5</th>\n",
       "      <td>#proudoftaylor</td>\n",
       "      <td>1.983660</td>\n",
       "      <td>Retweets</td>\n",
       "    </tr>\n",
       "    <tr>\n",
       "      <th>6</th>\n",
       "      <td>#bieber2020</td>\n",
       "      <td>3.011111</td>\n",
       "      <td>Replies</td>\n",
       "    </tr>\n",
       "    <tr>\n",
       "      <th>7</th>\n",
       "      <td>#bieber2020</td>\n",
       "      <td>1.118519</td>\n",
       "      <td>Replies</td>\n",
       "    </tr>\n",
       "    <tr>\n",
       "      <th>8</th>\n",
       "      <td>#bieber2020</td>\n",
       "      <td>0.083333</td>\n",
       "      <td>Replies</td>\n",
       "    </tr>\n",
       "  </tbody>\n",
       "</table>\n",
       "</div>"
      ],
      "text/plain": [
       "          Hashtag          y         x\n",
       "0           #army  30.504005     Likes\n",
       "1           #army   6.808960     Likes\n",
       "2           #army   0.728415     Likes\n",
       "3  #proudoftaylor   9.284314  Retweets\n",
       "4  #proudoftaylor   1.506209  Retweets\n",
       "5  #proudoftaylor   1.983660  Retweets\n",
       "6     #bieber2020   3.011111   Replies\n",
       "7     #bieber2020   1.118519   Replies\n",
       "8     #bieber2020   0.083333   Replies"
      ]
     },
     "execution_count": 61,
     "metadata": {},
     "output_type": "execute_result"
    }
   ],
   "source": [
    "df_bar"
   ]
  },
  {
   "cell_type": "code",
   "execution_count": 65,
   "metadata": {},
   "outputs": [
    {
     "data": {
      "text/plain": [
       "Text(0, 0.5, 'Average Number per Tweet')"
      ]
     },
     "execution_count": 65,
     "metadata": {},
     "output_type": "execute_result"
    },
    {
     "data": {
      "image/png": "[encoded data removed]",
      "text/plain": [
       "<Figure size 720x432 with 1 Axes>"
      ]
     },
     "metadata": {
      "needs_background": "light"
     },
     "output_type": "display_data"
    }
   ],
   "source": [
    "fig, ax = plt.subplots(figsize=(10,6))\n",
    "army_y = [army[col].mean() for col in ['likes_count', 'retweets_count', 'replies_count']]\n",
    "proud_y = [proud[col].mean() for col in ['likes_count', 'retweets_count', 'replies_count']]\n",
    "bieb_y = [bieb2020[col].mean() for col in ['likes_count', 'retweets_count', 'replies_count']]\n",
    "df_bar = pd.DataFrame({'Hashtag': ['#army'] * 3 + ['#proudoftaylor'] * 3 +  ['#bieber2020'] * 3,\n",
    "                       'y': army_y + proud_y + bieb_y, \n",
    "                       'x': ['Likes', 'Retweets', 'Replies'] * 3})\n",
    "sns.barplot('x', 'y', data=df_bar, hue='Hashtag', ax=ax)\n",
    "ax.set_title('Average Engagement for Tweets with Hashtag', fontsize=15)\n",
    "ax.set_xlabel('Engagement Type', fontsize=13)\n",
    "ax.set_ylabel('Average Number per Tweet', fontsize=13)"
   ]
  },
  {
   "cell_type": "code",
   "execution_count": 30,
   "metadata": {},
   "outputs": [
    {
     "data": {
      "text/plain": [
       "0.0679469537901506"
      ]
     },
     "execution_count": 30,
     "metadata": {},
     "output_type": "execute_result"
    }
   ],
   "source": [
    "(army.hashtags_lst.apply(lambda x: len(x)) <= 2).mean()"
   ]
  },
  {
   "cell_type": "code",
   "execution_count": 13,
   "metadata": {},
   "outputs": [
    {
     "data": {
      "text/plain": [
       "182407"
      ]
     },
     "execution_count": 13,
     "metadata": {},
     "output_type": "execute_result"
    }
   ],
   "source": [
    "len(army)"
   ]
  },
  {
   "cell_type": "code",
   "execution_count": 47,
   "metadata": {},
   "outputs": [
    {
     "data": {
      "text/plain": [
       "1.9836601307189543"
      ]
     },
     "execution_count": 47,
     "metadata": {},
     "output_type": "execute_result"
    }
   ],
   "source": [
    "proud.replies_count.mean()"
   ]
  },
  {
   "cell_type": "code",
   "execution_count": 7,
   "metadata": {},
   "outputs": [
    {
     "data": {
      "text/html": [
       "<div>\n",
       "<style scoped>\n",
       "    .dataframe tbody tr th:only-of-type {\n",
       "        vertical-align: middle;\n",
       "    }\n",
       "\n",
       "    .dataframe tbody tr th {\n",
       "        vertical-align: top;\n",
       "    }\n",
       "\n",
       "    .dataframe thead th {\n",
       "        text-align: right;\n",
       "    }\n",
       "</style>\n",
       "<table border=\"1\" class=\"dataframe\">\n",
       "  <thead>\n",
       "    <tr style=\"text-align: right;\">\n",
       "      <th></th>\n",
       "      <th>date</th>\n",
       "      <th>user_id</th>\n",
       "      <th>username</th>\n",
       "      <th>tweet</th>\n",
       "      <th>replies_count</th>\n",
       "      <th>retweets_count</th>\n",
       "      <th>likes_count</th>\n",
       "      <th>hashtags</th>\n",
       "      <th>retweet</th>\n",
       "      <th>normalized_dates</th>\n",
       "      <th>hashtags_lst</th>\n",
       "    </tr>\n",
       "  </thead>\n",
       "  <tbody>\n",
       "    <tr>\n",
       "      <th>51</th>\n",
       "      <td>2020-08-05</td>\n",
       "      <td>1158519584544219137</td>\n",
       "      <td>elisetheswiftie</td>\n",
       "      <td>JUST A REMINDER THAT YOU ARE VALIDATED AND BEA...</td>\n",
       "      <td>0</td>\n",
       "      <td>0</td>\n",
       "      <td>2</td>\n",
       "      <td>['folklore', 'cardigan', 'proudoftaylor', 'the...</td>\n",
       "      <td>False</td>\n",
       "      <td>12</td>\n",
       "      <td>[folklore, cardigan, proudoftaylor, thelakes, ...</td>\n",
       "    </tr>\n",
       "    <tr>\n",
       "      <th>62</th>\n",
       "      <td>2020-08-05</td>\n",
       "      <td>1148836063437361152</td>\n",
       "      <td>taylor1folklore</td>\n",
       "      <td>@amazonmusic #TaylorSwift #ProudOfTaylor</td>\n",
       "      <td>0</td>\n",
       "      <td>0</td>\n",
       "      <td>1</td>\n",
       "      <td>['taylorswift', 'proudoftaylor']</td>\n",
       "      <td>False</td>\n",
       "      <td>12</td>\n",
       "      <td>[taylorswift, proudoftaylor]</td>\n",
       "    </tr>\n",
       "    <tr>\n",
       "      <th>67</th>\n",
       "      <td>2020-08-05</td>\n",
       "      <td>1158519584544219137</td>\n",
       "      <td>elisetheswiftie</td>\n",
       "      <td>I will never shut up about the bridge in augus...</td>\n",
       "      <td>0</td>\n",
       "      <td>1</td>\n",
       "      <td>3</td>\n",
       "      <td>['folklore', 'august', 'cardigan', 'taylorswif...</td>\n",
       "      <td>False</td>\n",
       "      <td>12</td>\n",
       "      <td>[folklore, august, cardigan, taylorswift, prou...</td>\n",
       "    </tr>\n",
       "    <tr>\n",
       "      <th>128</th>\n",
       "      <td>2020-08-05</td>\n",
       "      <td>1158519584544219137</td>\n",
       "      <td>elisetheswiftie</td>\n",
       "      <td>YOU GUYS IM IN THE CAR AND JUST HEARD CARDIGAN...</td>\n",
       "      <td>1</td>\n",
       "      <td>0</td>\n",
       "      <td>2</td>\n",
       "      <td>['folklore', 'cardiganbuyingparty', 'cardigan'...</td>\n",
       "      <td>False</td>\n",
       "      <td>12</td>\n",
       "      <td>[folklore, cardiganbuyingparty, cardigan, tayl...</td>\n",
       "    </tr>\n",
       "    <tr>\n",
       "      <th>207</th>\n",
       "      <td>2020-08-05</td>\n",
       "      <td>1148836063437361152</td>\n",
       "      <td>taylor1folklore</td>\n",
       "      <td>#folklore #TaylorSwift #cardigan #ProudOfTaylo...</td>\n",
       "      <td>1</td>\n",
       "      <td>0</td>\n",
       "      <td>1</td>\n",
       "      <td>['folklore', 'taylorswift', 'cardigan', 'proud...</td>\n",
       "      <td>False</td>\n",
       "      <td>12</td>\n",
       "      <td>[folklore, taylorswift, cardigan, proudoftaylo...</td>\n",
       "    </tr>\n",
       "  </tbody>\n",
       "</table>\n",
       "</div>"
      ],
      "text/plain": [
       "           date              user_id         username  \\\n",
       "51   2020-08-05  1158519584544219137  elisetheswiftie   \n",
       "62   2020-08-05  1148836063437361152  taylor1folklore   \n",
       "67   2020-08-05  1158519584544219137  elisetheswiftie   \n",
       "128  2020-08-05  1158519584544219137  elisetheswiftie   \n",
       "207  2020-08-05  1148836063437361152  taylor1folklore   \n",
       "\n",
       "                                                 tweet  replies_count  \\\n",
       "51   JUST A REMINDER THAT YOU ARE VALIDATED AND BEA...              0   \n",
       "62            @amazonmusic #TaylorSwift #ProudOfTaylor              0   \n",
       "67   I will never shut up about the bridge in augus...              0   \n",
       "128  YOU GUYS IM IN THE CAR AND JUST HEARD CARDIGAN...              1   \n",
       "207  #folklore #TaylorSwift #cardigan #ProudOfTaylo...              1   \n",
       "\n",
       "     retweets_count  likes_count  \\\n",
       "51                0            2   \n",
       "62                0            1   \n",
       "67                1            3   \n",
       "128               0            2   \n",
       "207               0            1   \n",
       "\n",
       "                                              hashtags  retweet  \\\n",
       "51   ['folklore', 'cardigan', 'proudoftaylor', 'the...    False   \n",
       "62                    ['taylorswift', 'proudoftaylor']    False   \n",
       "67   ['folklore', 'august', 'cardigan', 'taylorswif...    False   \n",
       "128  ['folklore', 'cardiganbuyingparty', 'cardigan'...    False   \n",
       "207  ['folklore', 'taylorswift', 'cardigan', 'proud...    False   \n",
       "\n",
       "     normalized_dates                                       hashtags_lst  \n",
       "51                 12  [folklore, cardigan, proudoftaylor, thelakes, ...  \n",
       "62                 12                       [taylorswift, proudoftaylor]  \n",
       "67                 12  [folklore, august, cardigan, taylorswift, prou...  \n",
       "128                12  [folklore, cardiganbuyingparty, cardigan, tayl...  \n",
       "207                12  [folklore, taylorswift, cardigan, proudoftaylo...  "
      ]
     },
     "execution_count": 7,
     "metadata": {},
     "output_type": "execute_result"
    }
   ],
   "source": [
    "proud = taylor3[taylor3.hashtags.str.contains('proudoftaylor')]\n",
    "proud.head()"
   ]
  },
  {
   "cell_type": "code",
   "execution_count": 26,
   "metadata": {},
   "outputs": [
    {
     "data": {
      "text/plain": [
       "<matplotlib.axes._subplots.AxesSubplot at 0x1a6467bc6c8>"
      ]
     },
     "execution_count": 26,
     "metadata": {},
     "output_type": "execute_result"
    },
    {
     "data": {
      "image/png": "[encoded data removed]",
      "text/plain": [
       "<Figure size 432x288 with 1 Axes>"
      ]
     },
     "metadata": {
      "needs_background": "light"
     },
     "output_type": "display_data"
    }
   ],
   "source": [
    "proud.hashtags_lst.apply(lambda x: len(x)).plot.hist()"
   ]
  },
  {
   "cell_type": "code",
   "execution_count": 8,
   "metadata": {},
   "outputs": [
    {
     "data": {
      "text/plain": [
       "2.5022875816993464"
      ]
     },
     "execution_count": 8,
     "metadata": {},
     "output_type": "execute_result"
    }
   ],
   "source": [
    "proud.hashtags_lst.apply(lambda x: len(x)).mean()"
   ]
  },
  {
   "cell_type": "code",
   "execution_count": 12,
   "metadata": {},
   "outputs": [
    {
     "data": {
      "text/plain": [
       "3060"
      ]
     },
     "execution_count": 12,
     "metadata": {},
     "output_type": "execute_result"
    }
   ],
   "source": [
    "len(proud)"
   ]
  },
  {
   "cell_type": "code",
   "execution_count": 9,
   "metadata": {},
   "outputs": [
    {
     "data": {
      "text/html": [
       "<div>\n",
       "<style scoped>\n",
       "    .dataframe tbody tr th:only-of-type {\n",
       "        vertical-align: middle;\n",
       "    }\n",
       "\n",
       "    .dataframe tbody tr th {\n",
       "        vertical-align: top;\n",
       "    }\n",
       "\n",
       "    .dataframe thead th {\n",
       "        text-align: right;\n",
       "    }\n",
       "</style>\n",
       "<table border=\"1\" class=\"dataframe\">\n",
       "  <thead>\n",
       "    <tr style=\"text-align: right;\">\n",
       "      <th></th>\n",
       "      <th>date</th>\n",
       "      <th>user_id</th>\n",
       "      <th>username</th>\n",
       "      <th>tweet</th>\n",
       "      <th>replies_count</th>\n",
       "      <th>retweets_count</th>\n",
       "      <th>likes_count</th>\n",
       "      <th>hashtags</th>\n",
       "      <th>retweet</th>\n",
       "      <th>normalized_dates</th>\n",
       "      <th>hashtags_lst</th>\n",
       "    </tr>\n",
       "  </thead>\n",
       "  <tbody>\n",
       "    <tr>\n",
       "      <th>4</th>\n",
       "      <td>2020-02-26</td>\n",
       "      <td>3420957633</td>\n",
       "      <td>bionabieber</td>\n",
       "      <td>@justinbieber #justinbieber #Beliebers #Bieber...</td>\n",
       "      <td>0</td>\n",
       "      <td>0</td>\n",
       "      <td>0</td>\n",
       "      <td>['justinbieber', 'beliebers', 'bieber', 'chang...</td>\n",
       "      <td>False</td>\n",
       "      <td>12</td>\n",
       "      <td>[justinbieber, beliebers, bieber, changes, bie...</td>\n",
       "    </tr>\n",
       "    <tr>\n",
       "      <th>68</th>\n",
       "      <td>2020-02-26</td>\n",
       "      <td>815976024340996096</td>\n",
       "      <td>lifeofvasti</td>\n",
       "      <td>Justin Bieber Seasons is the real vibe. Congra...</td>\n",
       "      <td>0</td>\n",
       "      <td>0</td>\n",
       "      <td>2</td>\n",
       "      <td>['changestour', 'justinbieber', 'changes', 'bi...</td>\n",
       "      <td>False</td>\n",
       "      <td>12</td>\n",
       "      <td>[changestour, justinbieber, changes, bieber202...</td>\n",
       "    </tr>\n",
       "    <tr>\n",
       "      <th>189</th>\n",
       "      <td>2020-02-25</td>\n",
       "      <td>1210475772101529600</td>\n",
       "      <td>justinupdatezz</td>\n",
       "      <td>I wrote this for you @justinbieber . I love yo...</td>\n",
       "      <td>2</td>\n",
       "      <td>8</td>\n",
       "      <td>10</td>\n",
       "      <td>['jb5', 'lovejustin', 'justinbieber', 'justinb...</td>\n",
       "      <td>False</td>\n",
       "      <td>11</td>\n",
       "      <td>[jb5, lovejustin, justinbieber, justinbieberse...</td>\n",
       "    </tr>\n",
       "    <tr>\n",
       "      <th>198</th>\n",
       "      <td>2020-02-25</td>\n",
       "      <td>726111150690045952</td>\n",
       "      <td>lgirlsshop</td>\n",
       "      <td>CHANGES - THE ALBUM #justinbieber @justinbiebe...</td>\n",
       "      <td>0</td>\n",
       "      <td>0</td>\n",
       "      <td>0</td>\n",
       "      <td>['justinbieber', 'beliebers', 'bieber2020', 'y...</td>\n",
       "      <td>False</td>\n",
       "      <td>11</td>\n",
       "      <td>[justinbieber, beliebers, bieber2020, yummy, y...</td>\n",
       "    </tr>\n",
       "    <tr>\n",
       "      <th>218</th>\n",
       "      <td>2020-02-25</td>\n",
       "      <td>325433545</td>\n",
       "      <td>hmv_tachikawa</td>\n",
       "      <td>【#JustinBieber】 新しいジャスティンがそこにいる―。 世界が待っていた #ジャ...</td>\n",
       "      <td>0</td>\n",
       "      <td>0</td>\n",
       "      <td>1</td>\n",
       "      <td>['justinbieber', 'ジャスティン・ビーバー', 'bieber2020']</td>\n",
       "      <td>False</td>\n",
       "      <td>11</td>\n",
       "      <td>[justinbieber, ジャスティン・ビーバー, bieber2020]</td>\n",
       "    </tr>\n",
       "  </tbody>\n",
       "</table>\n",
       "</div>"
      ],
      "text/plain": [
       "           date              user_id        username  \\\n",
       "4    2020-02-26           3420957633     bionabieber   \n",
       "68   2020-02-26   815976024340996096     lifeofvasti   \n",
       "189  2020-02-25  1210475772101529600  justinupdatezz   \n",
       "198  2020-02-25   726111150690045952      lgirlsshop   \n",
       "218  2020-02-25            325433545   hmv_tachikawa   \n",
       "\n",
       "                                                 tweet  replies_count  \\\n",
       "4    @justinbieber #justinbieber #Beliebers #Bieber...              0   \n",
       "68   Justin Bieber Seasons is the real vibe. Congra...              0   \n",
       "189  I wrote this for you @justinbieber . I love yo...              2   \n",
       "198  CHANGES - THE ALBUM #justinbieber @justinbiebe...              0   \n",
       "218  【#JustinBieber】 新しいジャスティンがそこにいる―。 世界が待っていた #ジャ...              0   \n",
       "\n",
       "     retweets_count  likes_count  \\\n",
       "4                 0            0   \n",
       "68                0            2   \n",
       "189               8           10   \n",
       "198               0            0   \n",
       "218               0            1   \n",
       "\n",
       "                                              hashtags  retweet  \\\n",
       "4    ['justinbieber', 'beliebers', 'bieber', 'chang...    False   \n",
       "68   ['changestour', 'justinbieber', 'changes', 'bi...    False   \n",
       "189  ['jb5', 'lovejustin', 'justinbieber', 'justinb...    False   \n",
       "198  ['justinbieber', 'beliebers', 'bieber2020', 'y...    False   \n",
       "218      ['justinbieber', 'ジャスティン・ビーバー', 'bieber2020']    False   \n",
       "\n",
       "     normalized_dates                                       hashtags_lst  \n",
       "4                  12  [justinbieber, beliebers, bieber, changes, bie...  \n",
       "68                 12  [changestour, justinbieber, changes, bieber202...  \n",
       "189                11  [jb5, lovejustin, justinbieber, justinbieberse...  \n",
       "198                11  [justinbieber, beliebers, bieber2020, yummy, y...  \n",
       "218                11            [justinbieber, ジャスティン・ビーバー, bieber2020]  "
      ]
     },
     "execution_count": 9,
     "metadata": {},
     "output_type": "execute_result"
    }
   ],
   "source": [
    "bieb2020 = justin3[justin3.hashtags.str.contains('bieber2020')]\n",
    "bieb2020.head()"
   ]
  },
  {
   "cell_type": "code",
   "execution_count": 10,
   "metadata": {},
   "outputs": [
    {
     "data": {
      "text/plain": [
       "4.674074074074074"
      ]
     },
     "execution_count": 10,
     "metadata": {},
     "output_type": "execute_result"
    }
   ],
   "source": [
    "bieb2020.hashtags_lst.apply(lambda x: len(x)).mean()"
   ]
  },
  {
   "cell_type": "code",
   "execution_count": 11,
   "metadata": {},
   "outputs": [
    {
     "data": {
      "text/plain": [
       "540"
      ]
     },
     "execution_count": 11,
     "metadata": {},
     "output_type": "execute_result"
    }
   ],
   "source": [
    "len(bieb2020)"
   ]
  },
  {
   "cell_type": "code",
   "execution_count": 46,
   "metadata": {},
   "outputs": [
    {
     "data": {
      "text/plain": [
       "0.08333333333333333"
      ]
     },
     "execution_count": 46,
     "metadata": {},
     "output_type": "execute_result"
    }
   ],
   "source": [
    "bieb2020.replies_count.mean()"
   ]
  },
  {
   "cell_type": "code",
   "execution_count": null,
   "metadata": {},
   "outputs": [],
   "source": []
  }
 ],
 "metadata": {
  "kernelspec": {
   "display_name": "Python 3",
   "language": "python",
   "name": "python3"
  },
  "language_info": {
   "codemirror_mode": {
    "name": "ipython",
    "version": 3
   },
   "file_extension": ".py",
   "mimetype": "text/x-python",
   "name": "python",
   "nbconvert_exporter": "python",
   "pygments_lexer": "ipython3",
   "version": "3.7.4"
  }
 },
 "nbformat": 4,
 "nbformat_minor": 2
}
