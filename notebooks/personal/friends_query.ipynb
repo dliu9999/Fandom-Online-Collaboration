{
 "cells": [
  {
   "cell_type": "code",
   "execution_count": 26,
   "metadata": {},
   "outputs": [],
   "source": [
    "import tweepy\n",
    "import time"
   ]
  },
  {
   "cell_type": "code",
   "execution_count": 20,
   "metadata": {},
   "outputs": [],
   "source": [
    "access_token = \"2811837881-GivkP3K629JzIdMf8w32fv8JxSR1McGI08nmDAm\"\n",
    "access_token_secret = \"TyPlQzIg41mqV0TZAkkjya98zTfi167B9isMqJiaaPw5S\"\n",
    "consumer_key = \"pKzdxzzwocUjPlJyOVRE3aXrq\"\n",
    "consumer_secret = \"U4K2fVO5ArAo5klns1Y0E9t7WwvzXYZfsWzP9E17iw8TIVnLyH\"\n",
    "\n",
    "auth = tweepy.OAuthHandler(consumer_key, consumer_secret)\n",
    "auth.set_access_token(access_token, access_token_secret)\n",
    "api = tweepy.API(auth)"
   ]
  },
  {
   "cell_type": "code",
   "execution_count": 36,
   "metadata": {},
   "outputs": [],
   "source": [
    "# make it one per minute for final script\n",
    "ids = []\n",
    "for page in tweepy.Cursor(api.friends_ids, screen_name=\"ryofemme\").pages():\n",
    "    ids.extend(page)"
   ]
  },
  {
   "cell_type": "code",
   "execution_count": 37,
   "metadata": {},
   "outputs": [
    {
     "data": {
      "text/plain": [
       "624"
      ]
     },
     "execution_count": 37,
     "metadata": {},
     "output_type": "execute_result"
    }
   ],
   "source": [
    "len(ids)"
   ]
  }
 ],
 "metadata": {
  "kernelspec": {
   "display_name": "Python 3",
   "language": "python",
   "name": "python3"
  },
  "language_info": {
   "codemirror_mode": {
    "name": "ipython",
    "version": 3
   },
   "file_extension": ".py",
   "mimetype": "text/x-python",
   "name": "python",
   "nbconvert_exporter": "python",
   "pygments_lexer": "ipython3",
   "version": "3.7.4"
  }
 },
 "nbformat": 4,
 "nbformat_minor": 2
}
