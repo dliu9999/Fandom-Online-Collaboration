{
 "cells": [
  {
   "cell_type": "code",
   "execution_count": 1,
   "metadata": {},
   "outputs": [],
   "source": [
    "import wikipedia\n",
    "import pandas as pd\n",
    "import numpy as np\n",
    "import os\n",
    "import sys\n",
    "from bs4 import BeautifulSoup\n",
    "from datetime import datetime, timedelta\n",
    "import matplotlib.pyplot as plt\n"
   ]
  },
  {
   "cell_type": "code",
   "execution_count": 2,
   "metadata": {},
   "outputs": [],
   "source": [
    "def read_lightdump(fp):\n",
    "    '''\n",
    "\tReads in n lightdump pages and returns a list of all titles \n",
    "    read and their corresponding data as a DataFrame\n",
    "\t:param fp: input filepath\n",
    "\t:param n: number of articles to read\n",
    "\t:return: list of article titles, list of corresponding article lightdump data as DataFrame\n",
    "\t'''\n",
    "    \n",
    "    with open(fp) as file:\n",
    "        df = pd.DataFrame(columns = ['timestamp', 'revert', 'revision_id', 'length', 'user'])\n",
    "        for line in file:\n",
    "            if '^^^_' not in line:\n",
    "                title = line.strip('\\n').strip()\n",
    "\n",
    "            else:\n",
    "                data = line.strip(\"^^^_\").strip('\\n').split()\n",
    "                row = pd.Series(dtype = 'object')\n",
    "\n",
    "                row['timestamp'] = data[0]\n",
    "                row['revert'] = int(data[1])\n",
    "                row['revision_id'] = int(data[2])\n",
    "                row['length'] = int(data[3])\n",
    "                row['user'] = data[4]\n",
    "\n",
    "                df = df.append(row, ignore_index = True)\n",
    "\n",
    "    df['timestamp'] = pd.to_datetime(df['timestamp'])\n",
    "    return title, df"
   ]
  },
  {
   "cell_type": "code",
   "execution_count": 3,
   "metadata": {},
   "outputs": [],
   "source": [
    "# M STAT CALCULATION: single article\n",
    "def calculate_M(edits):\n",
    "    edits = edits.values.tolist()\n",
    "    edits.reverse()\n",
    "    \n",
    "    #cannot have edit war with 2 edits\n",
    "    if len(edits) <= 2:\n",
    "        return 0\n",
    "    \n",
    "    #cannot have edit war with less than 2 reverts\n",
    "    try:\n",
    "        num_reverts = sum([int(x[1]) for x in edits])\n",
    "        if num_reverts < 2:\n",
    "            return 0\n",
    "    except:\n",
    "        pass # bad data\n",
    "    \n",
    "    #M STAT: find revert pairs\n",
    "    revert_pairs = []\n",
    "\n",
    "    for lst in edits:\n",
    "        if len(lst) < 4: # skip bad data\n",
    "            continue\n",
    "        \n",
    "        if lst[1]=='1':  # is a revert\n",
    "            user_one = lst[3]\n",
    "            org_idx = int(lst[2])-1\n",
    "            try:\n",
    "                user_two = edits[org_idx][3]\n",
    "            except:\n",
    "                continue\n",
    "            \n",
    "            # exclude self revert\n",
    "            if user_one == user_two:\n",
    "                continue\n",
    "            \n",
    "            if (user_one, user_two) not in revert_pairs:\n",
    "                revert_pairs.append((user_one, user_two))\n",
    "                \n",
    "                \n",
    "    if len(revert_pairs) == 0:\n",
    "        print(\"There are no reverting pairs\")\n",
    "\n",
    "    #M STAT: find mutual reverts\n",
    "    mutual_rev_users = []\n",
    "    mutual_rev_pairs = []\n",
    "    for pair in revert_pairs:\n",
    "        one = pair[0]\n",
    "        two = pair[1]\n",
    "\n",
    "        #mutual revert found\n",
    "        if (two, one) in revert_pairs:\n",
    "            mutual_rev_pairs.append((one, two))\n",
    "            mutual_rev_users.append(two)\n",
    "            mutual_rev_users.append(one)\n",
    "\n",
    "    #remove duplicates, calculate num\n",
    "    E = len(list(set(mutual_rev_users)))\n",
    "\n",
    "    if E == 0:\n",
    "        return 0\n",
    "    \n",
    "    #get num edits per user\n",
    "    users = [x[3] for x in edits if len(x) == 4]\n",
    "    user_edits = dict((x,users.count(x)) for x in set(users))\n",
    "    \n",
    "    #calculate M\n",
    "    M = 0\n",
    "    \n",
    "    for pair in list(set(mutual_rev_pairs)):\n",
    "        one = pair[0]\n",
    "        two = pair[1]\n",
    "        if user_edits[one] < user_edits[two]:\n",
    "            N = user_edits[one]\n",
    "        else:\n",
    "            N = user_edits[two]\n",
    "\n",
    "        M += N\n",
    "    \n",
    "    M *= E\n",
    "    return M"
   ]
  },
  {
   "cell_type": "code",
   "execution_count": 4,
   "metadata": {},
   "outputs": [],
   "source": [
    "#Read in data\n",
    "files = [\n",
    "    '../data/raw/light_dump/bts_light_dump.txt',\n",
    "    '../data/raw/light_dump/Blackpink_light_dump.txt',\n",
    "    '../data/raw/light_dump/Girls_Generation_light_dump.txt',\n",
    "    '../data/raw/light_dump/Backstreet_Boys_light_dump.txt',\n",
    "    '../data/raw/light_dump/Justin_Bieber_light_dump.txt',\n",
    "    '../data/raw/light_dump/Taylor_Swift_light_dump.txt',\n",
    "    '../data/raw/light_dump/All_Lives_Matter_light_dump.txt',\n",
    "    '../data/raw/light_dump/Black_Lives_Matter_light_dump.txt',\n",
    "    '../data/raw/light_dump/Blue_Lives_Matter_light_dump.txt',\n",
    "]"
   ]
  },
  {
   "cell_type": "code",
   "execution_count": 122,
   "metadata": {},
   "outputs": [],
   "source": [
    "summary = pd.DataFrame([], columns = ['title', \n",
    "                                      'M', \n",
    "                                      'num_edits', \n",
    "                                      'num_reverts', \n",
    "                                      'num_users', \n",
    "                                      'avg_edits_per_user',\n",
    "                                      'num_bots', \n",
    "                                      'bot_edits', \n",
    "                                      'bot_reverts'\n",
    "                                     ])"
   ]
  },
  {
   "cell_type": "code",
   "execution_count": 127,
   "metadata": {},
   "outputs": [
    {
     "name": "stdout",
     "output_type": "stream",
     "text": [
      "There are no reverting pairs\n",
      "There are no reverting pairs\n",
      "There are no reverting pairs\n",
      "There are no reverting pairs\n",
      "There are no reverting pairs\n",
      "There are no reverting pairs\n",
      "There are no reverting pairs\n",
      "There are no reverting pairs\n",
      "There are no reverting pairs\n"
     ]
    }
   ],
   "source": [
    "for fp in files:\n",
    "    title, df = read_lightdump(fp)\n",
    "    data = [title]\n",
    "    data.append(calculate_M(df))\n",
    "    data.append(df.shape[0])\n",
    "    data.append(df.revert.sum())\n",
    "    unique_users = df.user.str.lower().unique()\n",
    "    data.append(len(unique_users))\n",
    "    data.append(df.groupby('user').count().revert.mean())\n",
    "    data.append(len([x for x in unique_users if 'bot' in x]))\n",
    "    df['bots'] = df.user.apply(lambda x: 1 if 'bot' in x else 0)\n",
    "    data.append(df[df.bots == 1].shape[0])\n",
    "    data.append(df[(df.revert == 1)&(df.bots == 1)].shape[0])\n",
    "    data = pd.Series(data, index = summary.columns)\n",
    "    summary = summary.append(data, ignore_index = True)"
   ]
  },
  {
   "cell_type": "code",
   "execution_count": 130,
   "metadata": {
    "scrolled": true
   },
   "outputs": [
    {
     "data": {
      "text/html": [
       "<div>\n",
       "<style scoped>\n",
       "    .dataframe tbody tr th:only-of-type {\n",
       "        vertical-align: middle;\n",
       "    }\n",
       "\n",
       "    .dataframe tbody tr th {\n",
       "        vertical-align: top;\n",
       "    }\n",
       "\n",
       "    .dataframe thead th {\n",
       "        text-align: right;\n",
       "    }\n",
       "</style>\n",
       "<table border=\"1\" class=\"dataframe\">\n",
       "  <thead>\n",
       "    <tr style=\"text-align: right;\">\n",
       "      <th></th>\n",
       "      <th>title</th>\n",
       "      <th>M</th>\n",
       "      <th>num_edits</th>\n",
       "      <th>num_reverts</th>\n",
       "      <th>num_users</th>\n",
       "      <th>avg_edits_per_user</th>\n",
       "      <th>num_bots</th>\n",
       "      <th>bot_edits</th>\n",
       "      <th>bot_reverts</th>\n",
       "      <th>revert/edit</th>\n",
       "      <th>bot/users</th>\n",
       "    </tr>\n",
       "  </thead>\n",
       "  <tbody>\n",
       "    <tr>\n",
       "      <th>9</th>\n",
       "      <td>BTS</td>\n",
       "      <td>0</td>\n",
       "      <td>6242</td>\n",
       "      <td>1009</td>\n",
       "      <td>1565</td>\n",
       "      <td>3.988498</td>\n",
       "      <td>24</td>\n",
       "      <td>34</td>\n",
       "      <td>1</td>\n",
       "      <td>0.161647</td>\n",
       "      <td>0.0153355</td>\n",
       "    </tr>\n",
       "    <tr>\n",
       "      <th>10</th>\n",
       "      <td>Blackpink</td>\n",
       "      <td>0</td>\n",
       "      <td>4316</td>\n",
       "      <td>823</td>\n",
       "      <td>1167</td>\n",
       "      <td>3.698372</td>\n",
       "      <td>19</td>\n",
       "      <td>23</td>\n",
       "      <td>0</td>\n",
       "      <td>0.190686</td>\n",
       "      <td>0.0162811</td>\n",
       "    </tr>\n",
       "    <tr>\n",
       "      <th>11</th>\n",
       "      <td>Girls' Generation</td>\n",
       "      <td>0</td>\n",
       "      <td>12609</td>\n",
       "      <td>1496</td>\n",
       "      <td>3782</td>\n",
       "      <td>3.333069</td>\n",
       "      <td>47</td>\n",
       "      <td>42</td>\n",
       "      <td>0</td>\n",
       "      <td>0.118645</td>\n",
       "      <td>0.0124273</td>\n",
       "    </tr>\n",
       "    <tr>\n",
       "      <th>12</th>\n",
       "      <td>Backstreet Boys</td>\n",
       "      <td>0</td>\n",
       "      <td>10392</td>\n",
       "      <td>2299</td>\n",
       "      <td>4088</td>\n",
       "      <td>2.542074</td>\n",
       "      <td>78</td>\n",
       "      <td>63</td>\n",
       "      <td>9</td>\n",
       "      <td>0.221228</td>\n",
       "      <td>0.0190802</td>\n",
       "    </tr>\n",
       "    <tr>\n",
       "      <th>13</th>\n",
       "      <td>Justin Bieber</td>\n",
       "      <td>0</td>\n",
       "      <td>9466</td>\n",
       "      <td>2260</td>\n",
       "      <td>3114</td>\n",
       "      <td>3.038844</td>\n",
       "      <td>62</td>\n",
       "      <td>76</td>\n",
       "      <td>3</td>\n",
       "      <td>0.238749</td>\n",
       "      <td>0.0199101</td>\n",
       "    </tr>\n",
       "    <tr>\n",
       "      <th>14</th>\n",
       "      <td>Taylor Swift</td>\n",
       "      <td>0</td>\n",
       "      <td>6540</td>\n",
       "      <td>617</td>\n",
       "      <td>1619</td>\n",
       "      <td>4.039531</td>\n",
       "      <td>54</td>\n",
       "      <td>33</td>\n",
       "      <td>0</td>\n",
       "      <td>0.0943425</td>\n",
       "      <td>0.0333539</td>\n",
       "    </tr>\n",
       "    <tr>\n",
       "      <th>15</th>\n",
       "      <td>All Lives Matter</td>\n",
       "      <td>0</td>\n",
       "      <td>356</td>\n",
       "      <td>94</td>\n",
       "      <td>180</td>\n",
       "      <td>1.977778</td>\n",
       "      <td>7</td>\n",
       "      <td>2</td>\n",
       "      <td>0</td>\n",
       "      <td>0.264045</td>\n",
       "      <td>0.0388889</td>\n",
       "    </tr>\n",
       "    <tr>\n",
       "      <th>16</th>\n",
       "      <td>Black Lives Matter</td>\n",
       "      <td>0</td>\n",
       "      <td>4226</td>\n",
       "      <td>563</td>\n",
       "      <td>1023</td>\n",
       "      <td>4.130987</td>\n",
       "      <td>19</td>\n",
       "      <td>29</td>\n",
       "      <td>0</td>\n",
       "      <td>0.133223</td>\n",
       "      <td>0.0185728</td>\n",
       "    </tr>\n",
       "    <tr>\n",
       "      <th>17</th>\n",
       "      <td>Blue Lives Matter</td>\n",
       "      <td>0</td>\n",
       "      <td>452</td>\n",
       "      <td>128</td>\n",
       "      <td>238</td>\n",
       "      <td>1.899160</td>\n",
       "      <td>12</td>\n",
       "      <td>7</td>\n",
       "      <td>0</td>\n",
       "      <td>0.283186</td>\n",
       "      <td>0.0504202</td>\n",
       "    </tr>\n",
       "  </tbody>\n",
       "</table>\n",
       "</div>"
      ],
      "text/plain": [
       "                 title  M num_edits num_reverts num_users  avg_edits_per_user  \\\n",
       "9                  BTS  0      6242        1009      1565            3.988498   \n",
       "10           Blackpink  0      4316         823      1167            3.698372   \n",
       "11   Girls' Generation  0     12609        1496      3782            3.333069   \n",
       "12     Backstreet Boys  0     10392        2299      4088            2.542074   \n",
       "13       Justin Bieber  0      9466        2260      3114            3.038844   \n",
       "14        Taylor Swift  0      6540         617      1619            4.039531   \n",
       "15    All Lives Matter  0       356          94       180            1.977778   \n",
       "16  Black Lives Matter  0      4226         563      1023            4.130987   \n",
       "17   Blue Lives Matter  0       452         128       238            1.899160   \n",
       "\n",
       "   num_bots bot_edits bot_reverts revert/edit  bot/users  \n",
       "9        24        34           1    0.161647  0.0153355  \n",
       "10       19        23           0    0.190686  0.0162811  \n",
       "11       47        42           0    0.118645  0.0124273  \n",
       "12       78        63           9    0.221228  0.0190802  \n",
       "13       62        76           3    0.238749  0.0199101  \n",
       "14       54        33           0   0.0943425  0.0333539  \n",
       "15        7         2           0    0.264045  0.0388889  \n",
       "16       19        29           0    0.133223  0.0185728  \n",
       "17       12         7           0    0.283186  0.0504202  "
      ]
     },
     "execution_count": 130,
     "metadata": {},
     "output_type": "execute_result"
    }
   ],
   "source": [
    "summary['revert/edit'] = summary.num_reverts / summary.num_edits\n",
    "summary['bot/users'] = summary.num_bots / summary.num_users\n",
    "summary.iloc[9:]"
   ]
  },
  {
   "cell_type": "code",
   "execution_count": null,
   "metadata": {},
   "outputs": [],
   "source": []
  },
  {
   "cell_type": "code",
   "execution_count": null,
   "metadata": {},
   "outputs": [],
   "source": []
  },
  {
   "cell_type": "markdown",
   "metadata": {},
   "source": [
    "========== Scratch =========="
   ]
  },
  {
   "cell_type": "markdown",
   "metadata": {},
   "source": [
    "## bts"
   ]
  },
  {
   "cell_type": "code",
   "execution_count": 45,
   "metadata": {},
   "outputs": [],
   "source": [
    "fp = files[0]\n",
    "title, bts = read_lightdump(fp)"
   ]
  },
  {
   "cell_type": "code",
   "execution_count": 46,
   "metadata": {},
   "outputs": [
    {
     "data": {
      "text/html": [
       "<div>\n",
       "<style scoped>\n",
       "    .dataframe tbody tr th:only-of-type {\n",
       "        vertical-align: middle;\n",
       "    }\n",
       "\n",
       "    .dataframe tbody tr th {\n",
       "        vertical-align: top;\n",
       "    }\n",
       "\n",
       "    .dataframe thead th {\n",
       "        text-align: right;\n",
       "    }\n",
       "</style>\n",
       "<table border=\"1\" class=\"dataframe\">\n",
       "  <thead>\n",
       "    <tr style=\"text-align: right;\">\n",
       "      <th></th>\n",
       "      <th>timestamp</th>\n",
       "      <th>revert</th>\n",
       "      <th>revision_id</th>\n",
       "      <th>length</th>\n",
       "      <th>user</th>\n",
       "    </tr>\n",
       "  </thead>\n",
       "  <tbody>\n",
       "    <tr>\n",
       "      <th>0</th>\n",
       "      <td>2013-07-04 19:45:15+00:00</td>\n",
       "      <td>0</td>\n",
       "      <td>1</td>\n",
       "      <td>7716</td>\n",
       "      <td>Hinorisakamachi</td>\n",
       "    </tr>\n",
       "    <tr>\n",
       "      <th>1</th>\n",
       "      <td>2013-07-04 19:47:39+00:00</td>\n",
       "      <td>0</td>\n",
       "      <td>2</td>\n",
       "      <td>7670</td>\n",
       "      <td>Hinorisakamachi</td>\n",
       "    </tr>\n",
       "    <tr>\n",
       "      <th>2</th>\n",
       "      <td>2013-07-04 19:59:17+00:00</td>\n",
       "      <td>0</td>\n",
       "      <td>3</td>\n",
       "      <td>7270</td>\n",
       "      <td>Hinorisakamachi</td>\n",
       "    </tr>\n",
       "    <tr>\n",
       "      <th>3</th>\n",
       "      <td>2013-07-04 19:59:53+00:00</td>\n",
       "      <td>0</td>\n",
       "      <td>4</td>\n",
       "      <td>7270</td>\n",
       "      <td>Hinorisakamachi</td>\n",
       "    </tr>\n",
       "    <tr>\n",
       "      <th>4</th>\n",
       "      <td>2013-07-04 20:19:54+00:00</td>\n",
       "      <td>0</td>\n",
       "      <td>5</td>\n",
       "      <td>7146</td>\n",
       "      <td>39.198.179.240</td>\n",
       "    </tr>\n",
       "  </tbody>\n",
       "</table>\n",
       "</div>"
      ],
      "text/plain": [
       "                  timestamp revert revision_id length             user\n",
       "0 2013-07-04 19:45:15+00:00      0           1   7716  Hinorisakamachi\n",
       "1 2013-07-04 19:47:39+00:00      0           2   7670  Hinorisakamachi\n",
       "2 2013-07-04 19:59:17+00:00      0           3   7270  Hinorisakamachi\n",
       "3 2013-07-04 19:59:53+00:00      0           4   7270  Hinorisakamachi\n",
       "4 2013-07-04 20:19:54+00:00      0           5   7146   39.198.179.240"
      ]
     },
     "execution_count": 46,
     "metadata": {},
     "output_type": "execute_result"
    }
   ],
   "source": [
    "bts.head()"
   ]
  },
  {
   "cell_type": "code",
   "execution_count": 120,
   "metadata": {},
   "outputs": [
    {
     "data": {
      "text/plain": [
       "3.9884984025559107"
      ]
     },
     "execution_count": 120,
     "metadata": {},
     "output_type": "execute_result"
    }
   ],
   "source": [
    "bts.groupby('user').count().revert.mean()"
   ]
  },
  {
   "cell_type": "code",
   "execution_count": 105,
   "metadata": {},
   "outputs": [],
   "source": [
    "data = [title]"
   ]
  },
  {
   "cell_type": "code",
   "execution_count": 106,
   "metadata": {},
   "outputs": [
    {
     "name": "stdout",
     "output_type": "stream",
     "text": [
      "There are no reverting pairs\n",
      "There are no reverting pairs\n"
     ]
    },
    {
     "data": {
      "text/plain": [
       "0"
      ]
     },
     "execution_count": 106,
     "metadata": {},
     "output_type": "execute_result"
    }
   ],
   "source": [
    "data.append(calculate_M(bts))\n",
    "calculate_M(bts)"
   ]
  },
  {
   "cell_type": "code",
   "execution_count": 107,
   "metadata": {},
   "outputs": [
    {
     "data": {
      "text/plain": [
       "6242"
      ]
     },
     "execution_count": 107,
     "metadata": {},
     "output_type": "execute_result"
    }
   ],
   "source": [
    "data.append(bts.shape[0])\n",
    "data.append(bts.revert.sum())\n",
    "bts.revert.sum() #num reverts\n",
    "bts.shape[0] #num edits"
   ]
  },
  {
   "cell_type": "code",
   "execution_count": 108,
   "metadata": {},
   "outputs": [
    {
     "data": {
      "text/plain": [
       "0.16164690804229415"
      ]
     },
     "execution_count": 108,
     "metadata": {},
     "output_type": "execute_result"
    }
   ],
   "source": [
    "# revert to edit ratio\n",
    "bts.revert.sum() / bts.shape[0] "
   ]
  },
  {
   "cell_type": "code",
   "execution_count": 109,
   "metadata": {},
   "outputs": [],
   "source": [
    "# bot ratio\n",
    "unique_users = bts.user.str.lower().unique()\n",
    "len([x for x in unique_users if 'bot' in x]) / len(unique_users)\n",
    "\n",
    "data.append(len(unique_users))\n",
    "data.append(len([x for x in unique_users if 'bot' in x]))"
   ]
  },
  {
   "cell_type": "code",
   "execution_count": 110,
   "metadata": {},
   "outputs": [],
   "source": [
    "# ratio of bot edits\n",
    "bots = [x for x in unique_users if 'bot' in x]\n",
    "bts['bots'] = bts.user.apply(lambda x: 1 if 'bot' in x else 0)\n",
    "bts[bts.bots == 1].shape[0] / bts.shape[0]\n",
    "\n",
    "data.append(bts[bts.bots == 1].shape[0])"
   ]
  },
  {
   "cell_type": "code",
   "execution_count": 111,
   "metadata": {},
   "outputs": [],
   "source": [
    "#ratio of bot reverts\n",
    "bts[(bts.revert == 1)&(bts.bots == 1)].shape[0] / bts[bts.revert == 1].shape[0]\n",
    "\n",
    "data.append(bts[(bts.revert == 1)&(bts.bots == 1)].shape[0])"
   ]
  },
  {
   "cell_type": "code",
   "execution_count": 112,
   "metadata": {},
   "outputs": [],
   "source": [
    "data = pd.Series(data, index = summary.columns)\n",
    "summary = summary.append(data, ignore_index = True)"
   ]
  },
  {
   "cell_type": "markdown",
   "metadata": {},
   "source": [
    "## justin biebs"
   ]
  },
  {
   "cell_type": "code",
   "execution_count": 30,
   "metadata": {},
   "outputs": [],
   "source": [
    "fp = files[4]\n",
    "title, df = read_lightdump(fp)"
   ]
  },
  {
   "cell_type": "code",
   "execution_count": 31,
   "metadata": {},
   "outputs": [
    {
     "data": {
      "text/html": [
       "<div>\n",
       "<style scoped>\n",
       "    .dataframe tbody tr th:only-of-type {\n",
       "        vertical-align: middle;\n",
       "    }\n",
       "\n",
       "    .dataframe tbody tr th {\n",
       "        vertical-align: top;\n",
       "    }\n",
       "\n",
       "    .dataframe thead th {\n",
       "        text-align: right;\n",
       "    }\n",
       "</style>\n",
       "<table border=\"1\" class=\"dataframe\">\n",
       "  <thead>\n",
       "    <tr style=\"text-align: right;\">\n",
       "      <th></th>\n",
       "      <th>timestamp</th>\n",
       "      <th>revert</th>\n",
       "      <th>revision_id</th>\n",
       "      <th>length</th>\n",
       "      <th>user</th>\n",
       "    </tr>\n",
       "  </thead>\n",
       "  <tbody>\n",
       "    <tr>\n",
       "      <th>0</th>\n",
       "      <td>2008-04-22 13:44:17+00:00</td>\n",
       "      <td>0</td>\n",
       "      <td>1</td>\n",
       "      <td>1427</td>\n",
       "      <td>Jescelle777</td>\n",
       "    </tr>\n",
       "    <tr>\n",
       "      <th>1</th>\n",
       "      <td>2008-04-22 13:49:00+00:00</td>\n",
       "      <td>0</td>\n",
       "      <td>2</td>\n",
       "      <td>1507</td>\n",
       "      <td>Jescelle777</td>\n",
       "    </tr>\n",
       "    <tr>\n",
       "      <th>2</th>\n",
       "      <td>2009-06-14 01:33:04+00:00</td>\n",
       "      <td>0</td>\n",
       "      <td>3</td>\n",
       "      <td>492</td>\n",
       "      <td>Morts623</td>\n",
       "    </tr>\n",
       "    <tr>\n",
       "      <th>3</th>\n",
       "      <td>2009-06-14 01:33:41+00:00</td>\n",
       "      <td>0</td>\n",
       "      <td>4</td>\n",
       "      <td>506</td>\n",
       "      <td>Blanchardb</td>\n",
       "    </tr>\n",
       "    <tr>\n",
       "      <th>4</th>\n",
       "      <td>2009-06-14 01:36:06+00:00</td>\n",
       "      <td>0</td>\n",
       "      <td>5</td>\n",
       "      <td>507</td>\n",
       "      <td>Morts623</td>\n",
       "    </tr>\n",
       "  </tbody>\n",
       "</table>\n",
       "</div>"
      ],
      "text/plain": [
       "                  timestamp revert revision_id length         user\n",
       "0 2008-04-22 13:44:17+00:00      0           1   1427  Jescelle777\n",
       "1 2008-04-22 13:49:00+00:00      0           2   1507  Jescelle777\n",
       "2 2009-06-14 01:33:04+00:00      0           3    492     Morts623\n",
       "3 2009-06-14 01:33:41+00:00      0           4    506   Blanchardb\n",
       "4 2009-06-14 01:36:06+00:00      0           5    507     Morts623"
      ]
     },
     "execution_count": 31,
     "metadata": {},
     "output_type": "execute_result"
    }
   ],
   "source": [
    "df.head()"
   ]
  },
  {
   "cell_type": "code",
   "execution_count": 32,
   "metadata": {},
   "outputs": [
    {
     "name": "stdout",
     "output_type": "stream",
     "text": [
      "There are no reverting pairs\n"
     ]
    },
    {
     "data": {
      "text/plain": [
       "0"
      ]
     },
     "execution_count": 32,
     "metadata": {},
     "output_type": "execute_result"
    }
   ],
   "source": [
    "calculate_M(df)"
   ]
  },
  {
   "cell_type": "code",
   "execution_count": 54,
   "metadata": {},
   "outputs": [
    {
     "data": {
      "text/plain": [
       "9466"
      ]
     },
     "execution_count": 54,
     "metadata": {},
     "output_type": "execute_result"
    }
   ],
   "source": [
    "df.revert.sum() #num reverts\n",
    "df.shape[0] #num edits"
   ]
  },
  {
   "cell_type": "code",
   "execution_count": 33,
   "metadata": {},
   "outputs": [
    {
     "data": {
      "text/plain": [
       "0.23874920769068245"
      ]
     },
     "execution_count": 33,
     "metadata": {},
     "output_type": "execute_result"
    }
   ],
   "source": [
    "# revert to edit ratio\n",
    "df.revert.sum() / df.shape[0] "
   ]
  },
  {
   "cell_type": "code",
   "execution_count": 34,
   "metadata": {},
   "outputs": [
    {
     "data": {
      "text/plain": [
       "0.01991008349389852"
      ]
     },
     "execution_count": 34,
     "metadata": {},
     "output_type": "execute_result"
    }
   ],
   "source": [
    "# bot ratio\n",
    "unique_users = df.user.str.lower().unique()\n",
    "len([x for x in unique_users if 'bot' in x]) / len(unique_users)"
   ]
  },
  {
   "cell_type": "code",
   "execution_count": 40,
   "metadata": {},
   "outputs": [
    {
     "data": {
      "text/plain": [
       "0.008028734417916754"
      ]
     },
     "execution_count": 40,
     "metadata": {},
     "output_type": "execute_result"
    }
   ],
   "source": [
    "# ratio of bot edits\n",
    "bots = [x for x in unique_users if 'bot' in x]\n",
    "df['bots'] = df.user.apply(lambda x: 1 if 'bot' in x else 0)\n",
    "df[df.bots == 1].shape[0] / df.shape[0]"
   ]
  },
  {
   "cell_type": "code",
   "execution_count": 44,
   "metadata": {},
   "outputs": [
    {
     "data": {
      "text/plain": [
       "0.001327433628318584"
      ]
     },
     "execution_count": 44,
     "metadata": {},
     "output_type": "execute_result"
    }
   ],
   "source": [
    "#ratio of bot reverts\n",
    "df[(df.revert == 1)&(df.bots == 1)].shape[0] / df[df.revert == 1].shape[0]"
   ]
  },
  {
   "cell_type": "markdown",
   "metadata": {},
   "source": [
    "## Summary"
   ]
  },
  {
   "cell_type": "code",
   "execution_count": 113,
   "metadata": {},
   "outputs": [
    {
     "data": {
      "text/html": [
       "<div>\n",
       "<style scoped>\n",
       "    .dataframe tbody tr th:only-of-type {\n",
       "        vertical-align: middle;\n",
       "    }\n",
       "\n",
       "    .dataframe tbody tr th {\n",
       "        vertical-align: top;\n",
       "    }\n",
       "\n",
       "    .dataframe thead th {\n",
       "        text-align: right;\n",
       "    }\n",
       "</style>\n",
       "<table border=\"1\" class=\"dataframe\">\n",
       "  <thead>\n",
       "    <tr style=\"text-align: right;\">\n",
       "      <th></th>\n",
       "      <th>title</th>\n",
       "      <th>M</th>\n",
       "      <th>num_edits</th>\n",
       "      <th>num_reverts</th>\n",
       "      <th>num_users</th>\n",
       "      <th>num_bots</th>\n",
       "      <th>bot_edits</th>\n",
       "      <th>bot_reverts</th>\n",
       "    </tr>\n",
       "  </thead>\n",
       "  <tbody>\n",
       "    <tr>\n",
       "      <th>0</th>\n",
       "      <td>BTS</td>\n",
       "      <td>0</td>\n",
       "      <td>6242</td>\n",
       "      <td>1009</td>\n",
       "      <td>1565</td>\n",
       "      <td>24</td>\n",
       "      <td>34</td>\n",
       "      <td>1</td>\n",
       "    </tr>\n",
       "  </tbody>\n",
       "</table>\n",
       "</div>"
      ],
      "text/plain": [
       "  title  M num_edits num_reverts num_users num_bots bot_edits bot_reverts\n",
       "0   BTS  0      6242        1009      1565       24        34           1"
      ]
     },
     "execution_count": 113,
     "metadata": {},
     "output_type": "execute_result"
    }
   ],
   "source": [
    "summary"
   ]
  },
  {
   "cell_type": "code",
   "execution_count": 114,
   "metadata": {},
   "outputs": [],
   "source": [
    "summary['revert/edit'] = summary.num_reverts / summary.num_edits"
   ]
  },
  {
   "cell_type": "code",
   "execution_count": 115,
   "metadata": {},
   "outputs": [],
   "source": [
    "summary['bot/users'] = summary.num_bots / summary.num_users"
   ]
  },
  {
   "cell_type": "code",
   "execution_count": 116,
   "metadata": {},
   "outputs": [
    {
     "data": {
      "text/html": [
       "<div>\n",
       "<style scoped>\n",
       "    .dataframe tbody tr th:only-of-type {\n",
       "        vertical-align: middle;\n",
       "    }\n",
       "\n",
       "    .dataframe tbody tr th {\n",
       "        vertical-align: top;\n",
       "    }\n",
       "\n",
       "    .dataframe thead th {\n",
       "        text-align: right;\n",
       "    }\n",
       "</style>\n",
       "<table border=\"1\" class=\"dataframe\">\n",
       "  <thead>\n",
       "    <tr style=\"text-align: right;\">\n",
       "      <th></th>\n",
       "      <th>title</th>\n",
       "      <th>M</th>\n",
       "      <th>num_edits</th>\n",
       "      <th>num_reverts</th>\n",
       "      <th>num_users</th>\n",
       "      <th>num_bots</th>\n",
       "      <th>bot_edits</th>\n",
       "      <th>bot_reverts</th>\n",
       "      <th>revert/edit</th>\n",
       "      <th>bot/users</th>\n",
       "    </tr>\n",
       "  </thead>\n",
       "  <tbody>\n",
       "    <tr>\n",
       "      <th>0</th>\n",
       "      <td>BTS</td>\n",
       "      <td>0</td>\n",
       "      <td>6242</td>\n",
       "      <td>1009</td>\n",
       "      <td>1565</td>\n",
       "      <td>24</td>\n",
       "      <td>34</td>\n",
       "      <td>1</td>\n",
       "      <td>0.161647</td>\n",
       "      <td>0.0153355</td>\n",
       "    </tr>\n",
       "  </tbody>\n",
       "</table>\n",
       "</div>"
      ],
      "text/plain": [
       "  title  M num_edits num_reverts num_users num_bots bot_edits bot_reverts  \\\n",
       "0   BTS  0      6242        1009      1565       24        34           1   \n",
       "\n",
       "  revert/edit  bot/users  \n",
       "0    0.161647  0.0153355  "
      ]
     },
     "execution_count": 116,
     "metadata": {},
     "output_type": "execute_result"
    }
   ],
   "source": [
    "summary"
   ]
  },
  {
   "cell_type": "code",
   "execution_count": null,
   "metadata": {},
   "outputs": [],
   "source": []
  }
 ],
 "metadata": {
  "kernelspec": {
   "display_name": "Python 3",
   "language": "python",
   "name": "python3"
  },
  "language_info": {
   "codemirror_mode": {
    "name": "ipython",
    "version": 3
   },
   "file_extension": ".py",
   "mimetype": "text/x-python",
   "name": "python",
   "nbconvert_exporter": "python",
   "pygments_lexer": "ipython3",
   "version": "3.6.2"
  }
 },
 "nbformat": 4,
 "nbformat_minor": 2
}
