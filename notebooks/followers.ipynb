{
 "cells": [
  {
   "cell_type": "code",
   "execution_count": 1,
   "metadata": {},
   "outputs": [],
   "source": [
    "import tweepy\n",
    "import time\n",
    "import pandas as pd\n",
    "import numpy as np\n",
    "%matplotlib inline"
   ]
  },
  {
   "cell_type": "code",
   "execution_count": 2,
   "metadata": {},
   "outputs": [],
   "source": [
    "access_token = '2811837881-GivkP3K629JzIdMf8w32fv8JxSR1McGI08nmDAm'\n",
    "access_token_secret = 'TyPlQzIg41mqV0TZAkkjya98zTfi167B9isMqJiaaPw5S'\n",
    "consumer_key = 'pKzdxzzwocUjPlJyOVRE3aXrq'\n",
    "consumer_secret = 'U4K2fVO5ArAo5klns1Y0E9t7WwvzXYZfsWzP9E17iw8TIVnLyH'\n",
    "\n",
    "auth = tweepy.OAuthHandler(consumer_key, consumer_secret)\n",
    "auth.set_access_token(access_token, access_token_secret)\n",
    "api = tweepy.API(auth, wait_on_rate_limit=True, wait_on_rate_limit_notify=True, compression=True)"
   ]
  },
  {
   "cell_type": "code",
   "execution_count": 3,
   "metadata": {},
   "outputs": [],
   "source": [
    "cols = ['id', 'conversation_id', 'date', 'time', 'user_id', 'username', 'tweet', 'replies_count', 'retweets_count', 'likes_count']\n",
    "wlm = pd.read_csv('../data/raw/wlm_3.csv', usecols=cols)\n",
    "wlm = wlm[wlm.date.isin(['2020-05-31', '2020-06-01', '2020-06-02', '2020-06-03', '2020-06-04', '2020-06-05', '2020-06-06'])]\n",
    "wlm['date'] = pd.to_datetime(wlm['date']).dt.date.astype(str)\n"
   ]
  },
  {
   "cell_type": "code",
   "execution_count": 4,
   "metadata": {},
   "outputs": [
    {
     "data": {
      "image/png": "[encoded data removed]",
      "text/plain": [
       "<Figure size 720x360 with 1 Axes>"
      ]
     },
     "metadata": {
      "needs_background": "light"
     },
     "output_type": "display_data"
    }
   ],
   "source": [
    "wlm.groupby('date').size().plot(figsize=(10, 5));"
   ]
  },
  {
   "cell_type": "code",
   "execution_count": 5,
   "metadata": {},
   "outputs": [
    {
     "data": {
      "text/html": [
       "<div>\n",
       "<style scoped>\n",
       "    .dataframe tbody tr th:only-of-type {\n",
       "        vertical-align: middle;\n",
       "    }\n",
       "\n",
       "    .dataframe tbody tr th {\n",
       "        vertical-align: top;\n",
       "    }\n",
       "\n",
       "    .dataframe thead th {\n",
       "        text-align: right;\n",
       "    }\n",
       "</style>\n",
       "<table border=\"1\" class=\"dataframe\">\n",
       "  <thead>\n",
       "    <tr style=\"text-align: right;\">\n",
       "      <th></th>\n",
       "      <th>id</th>\n",
       "      <th>conversation_id</th>\n",
       "      <th>date</th>\n",
       "      <th>time</th>\n",
       "      <th>user_id</th>\n",
       "      <th>username</th>\n",
       "      <th>tweet</th>\n",
       "      <th>replies_count</th>\n",
       "      <th>retweets_count</th>\n",
       "      <th>likes_count</th>\n",
       "    </tr>\n",
       "  </thead>\n",
       "  <tbody>\n",
       "    <tr>\n",
       "      <th>0</th>\n",
       "      <td>1268186183290564608</td>\n",
       "      <td>1268186183290564608</td>\n",
       "      <td>2020-06-03</td>\n",
       "      <td>07:22:02</td>\n",
       "      <td>831439388215230464</td>\n",
       "      <td>samuel_kalubi</td>\n",
       "      <td>To enjoy peace, like king Asa. Live to please ...</td>\n",
       "      <td>0</td>\n",
       "      <td>0</td>\n",
       "      <td>2</td>\n",
       "    </tr>\n",
       "    <tr>\n",
       "      <th>1</th>\n",
       "      <td>1268228297747546112</td>\n",
       "      <td>1268228297747546112</td>\n",
       "      <td>2020-06-03</td>\n",
       "      <td>10:09:23</td>\n",
       "      <td>1243279102284648457</td>\n",
       "      <td>meel71615030</td>\n",
       "      <td>Eu vendo a vergonha que é essa TAG #WhiteLives...</td>\n",
       "      <td>0</td>\n",
       "      <td>0</td>\n",
       "      <td>1</td>\n",
       "    </tr>\n",
       "    <tr>\n",
       "      <th>2</th>\n",
       "      <td>1268176202491199489</td>\n",
       "      <td>1268176202491199489</td>\n",
       "      <td>2020-06-03</td>\n",
       "      <td>06:42:22</td>\n",
       "      <td>871884233194840064</td>\n",
       "      <td>mincrosoft_</td>\n",
       "      <td>#WhiteLivesMatter eat shit racists 🥰  https://...</td>\n",
       "      <td>0</td>\n",
       "      <td>0</td>\n",
       "      <td>1</td>\n",
       "    </tr>\n",
       "    <tr>\n",
       "      <th>3</th>\n",
       "      <td>1268179324500230147</td>\n",
       "      <td>1268179324500230147</td>\n",
       "      <td>2020-06-03</td>\n",
       "      <td>06:54:47</td>\n",
       "      <td>914113530827173888</td>\n",
       "      <td>wonderfulmeteor</td>\n",
       "      <td>WHY YES WHITE’S IG LIVES DO MATTER #WhiteLives...</td>\n",
       "      <td>0</td>\n",
       "      <td>0</td>\n",
       "      <td>0</td>\n",
       "    </tr>\n",
       "    <tr>\n",
       "      <th>4</th>\n",
       "      <td>1268190340365901824</td>\n",
       "      <td>1268190340365901824</td>\n",
       "      <td>2020-06-03</td>\n",
       "      <td>07:38:33</td>\n",
       "      <td>1225130112573739008</td>\n",
       "      <td>christuuuh1</td>\n",
       "      <td>Kpop Stans took over #WhiteLivesMatter and #wh...</td>\n",
       "      <td>0</td>\n",
       "      <td>0</td>\n",
       "      <td>1</td>\n",
       "    </tr>\n",
       "  </tbody>\n",
       "</table>\n",
       "</div>"
      ],
      "text/plain": [
       "                    id      conversation_id        date      time  \\\n",
       "0  1268186183290564608  1268186183290564608  2020-06-03  07:22:02   \n",
       "1  1268228297747546112  1268228297747546112  2020-06-03  10:09:23   \n",
       "2  1268176202491199489  1268176202491199489  2020-06-03  06:42:22   \n",
       "3  1268179324500230147  1268179324500230147  2020-06-03  06:54:47   \n",
       "4  1268190340365901824  1268190340365901824  2020-06-03  07:38:33   \n",
       "\n",
       "               user_id         username  \\\n",
       "0   831439388215230464    samuel_kalubi   \n",
       "1  1243279102284648457     meel71615030   \n",
       "2   871884233194840064      mincrosoft_   \n",
       "3   914113530827173888  wonderfulmeteor   \n",
       "4  1225130112573739008      christuuuh1   \n",
       "\n",
       "                                               tweet  replies_count  \\\n",
       "0  To enjoy peace, like king Asa. Live to please ...              0   \n",
       "1  Eu vendo a vergonha que é essa TAG #WhiteLives...              0   \n",
       "2  #WhiteLivesMatter eat shit racists 🥰  https://...              0   \n",
       "3  WHY YES WHITE’S IG LIVES DO MATTER #WhiteLives...              0   \n",
       "4  Kpop Stans took over #WhiteLivesMatter and #wh...              0   \n",
       "\n",
       "   retweets_count  likes_count  \n",
       "0               0            2  \n",
       "1               0            1  \n",
       "2               0            1  \n",
       "3               0            0  \n",
       "4               0            1  "
      ]
     },
     "execution_count": 5,
     "metadata": {},
     "output_type": "execute_result"
    }
   ],
   "source": [
    "subset = pd.read_csv('../data/raw/subset.csv')\n",
    "subset.head()"
   ]
  },
  {
   "cell_type": "code",
   "execution_count": 101,
   "metadata": {},
   "outputs": [],
   "source": [
    "ids = subset.user_id.unique().astype(str)\n",
    "ids_darren = '\\n'.join(ids[:2147])\n",
    "ids_kylee = '\\n'.join(ids[2147:4294])\n",
    "ids_casey = '\\n'.join(ids[4294:])"
   ]
  },
  {
   "cell_type": "markdown",
   "metadata": {},
   "source": [
    "## Intersection"
   ]
  },
  {
   "cell_type": "code",
   "execution_count": 14,
   "metadata": {},
   "outputs": [],
   "source": [
    "kpop_ids = {335141638, 1409798257, 168683422, 637313893, 884378714, 573299587, 873115441303924736, 125603760, 1429480158, 408177579}"
   ]
  },
  {
   "cell_type": "code",
   "execution_count": 15,
   "metadata": {},
   "outputs": [],
   "source": [
    "ids_lst = []\n",
    "friends_lst = []\n",
    "with open('wlm/friends.txt') as fh:\n",
    "    for line in fh:\n",
    "        _id, friends = line.split('-')\n",
    "        ids_lst.append(int(_id))\n",
    "        inter = kpop_ids.intersection(set(eval(friends)))\n",
    "        if len(inter) > 0:\n",
    "            friends_lst.append(True)\n",
    "        else:\n",
    "            friends_lst.append(False)"
   ]
  },
  {
   "cell_type": "code",
   "execution_count": 17,
   "metadata": {},
   "outputs": [],
   "source": [
    "kpop_df = pd.DataFrame().assign(user_id=ids_lst, kpop=friends_lst)"
   ]
  },
  {
   "cell_type": "code",
   "execution_count": 40,
   "metadata": {},
   "outputs": [
    {
     "data": {
      "text/plain": [
       "<matplotlib.legend.Legend at 0x22210d02ec8>"
      ]
     },
     "execution_count": 40,
     "metadata": {},
     "output_type": "execute_result"
    },
    {
     "data": {
      "image/png": "[encoded data removed]",
      "text/plain": [
       "<Figure size 720x360 with 1 Axes>"
      ]
     },
     "metadata": {
      "needs_background": "light"
     },
     "output_type": "display_data"
    }
   ],
   "source": [
    "merged = subset[['user_id', 'date']].merge(kpop_df)\n",
    "media = subset[subset.tweet.str.lower().str.contains('kpop|k-pop|bts|stan|https://t.co')]\n",
    "ax = merged.groupby('date').size().plot(figsize=(10, 5))\n",
    "media.groupby('date').size().plot();\n",
    "fans = merged[merged.kpop == True]\n",
    "fans.groupby('date').size().plot();\n",
    "ax.legend(['All', 'Media', 'Follows Kpop'])"
   ]
  },
  {
   "cell_type": "code",
   "execution_count": 37,
   "metadata": {},
   "outputs": [
    {
     "data": {
      "text/plain": [
       "5786"
      ]
     },
     "execution_count": 37,
     "metadata": {},
     "output_type": "execute_result"
    }
   ],
   "source": [
    "media = subset[subset.tweet.str.lower().str.contains('kpop|k-pop|bts|stan|https://t.co')]"
   ]
  },
  {
   "cell_type": "code",
   "execution_count": 25,
   "metadata": {},
   "outputs": [
    {
     "data": {
      "text/plain": [
       "7485"
      ]
     },
     "execution_count": 25,
     "metadata": {},
     "output_type": "execute_result"
    }
   ],
   "source": [
    "len(subset)"
   ]
  },
  {
   "cell_type": "code",
   "execution_count": null,
   "metadata": {},
   "outputs": [],
   "source": []
  }
 ],
 "metadata": {
  "kernelspec": {
   "display_name": "Python 3",
   "language": "python",
   "name": "python3"
  },
  "language_info": {
   "codemirror_mode": {
    "name": "ipython",
    "version": 3
   },
   "file_extension": ".py",
   "mimetype": "text/x-python",
   "name": "python",
   "nbconvert_exporter": "python",
   "pygments_lexer": "ipython3",
   "version": "3.7.4"
  }
 },
 "nbformat": 4,
 "nbformat_minor": 2
}
