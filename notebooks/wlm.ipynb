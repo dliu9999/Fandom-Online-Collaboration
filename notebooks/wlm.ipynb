{
 "cells": [
  {
   "cell_type": "code",
   "execution_count": 1,
   "metadata": {},
   "outputs": [],
   "source": [
    "import pandas as pd\n",
    "import numpy as np\n",
    "import warnings\n",
    "import matplotlib.pyplot as plt\n",
    "warnings.filterwarnings('ignore')"
   ]
  },
  {
   "cell_type": "code",
   "execution_count": 2,
   "metadata": {},
   "outputs": [],
   "source": [
    "wlm1 = pd.read_csv('../data/raw/wlm1.csv')\n",
    "wlm2 = pd.read_csv('../data/raw/wlm2.csv')"
   ]
  },
  {
   "cell_type": "code",
   "execution_count": 18,
   "metadata": {},
   "outputs": [],
   "source": [
    "combined = wlm2.append(wlm1, ignore_index=True).drop_duplicates()"
   ]
  },
  {
   "cell_type": "code",
   "execution_count": 8,
   "metadata": {},
   "outputs": [
    {
     "data": {
      "text/html": [
       "<div>\n",
       "<style scoped>\n",
       "    .dataframe tbody tr th:only-of-type {\n",
       "        vertical-align: middle;\n",
       "    }\n",
       "\n",
       "    .dataframe tbody tr th {\n",
       "        vertical-align: top;\n",
       "    }\n",
       "\n",
       "    .dataframe thead th {\n",
       "        text-align: right;\n",
       "    }\n",
       "</style>\n",
       "<table border=\"1\" class=\"dataframe\">\n",
       "  <thead>\n",
       "    <tr style=\"text-align: right;\">\n",
       "      <th></th>\n",
       "      <th>id</th>\n",
       "      <th>conversation_id</th>\n",
       "      <th>created_at</th>\n",
       "      <th>date</th>\n",
       "      <th>time</th>\n",
       "      <th>timezone</th>\n",
       "      <th>user_id</th>\n",
       "      <th>username</th>\n",
       "      <th>name</th>\n",
       "      <th>place</th>\n",
       "      <th>...</th>\n",
       "      <th>geo</th>\n",
       "      <th>source</th>\n",
       "      <th>user_rt_id</th>\n",
       "      <th>user_rt</th>\n",
       "      <th>retweet_id</th>\n",
       "      <th>reply_to</th>\n",
       "      <th>retweet_date</th>\n",
       "      <th>translate</th>\n",
       "      <th>trans_src</th>\n",
       "      <th>trans_dest</th>\n",
       "    </tr>\n",
       "  </thead>\n",
       "  <tbody>\n",
       "    <tr>\n",
       "      <th>0</th>\n",
       "      <td>1.270143e+18</td>\n",
       "      <td>1.270143e+18</td>\n",
       "      <td>2020-06-08 16:59:28 Pacific Daylight Time</td>\n",
       "      <td>2020-06-08</td>\n",
       "      <td>16:59:28</td>\n",
       "      <td>-800.0</td>\n",
       "      <td>1.240202e+18</td>\n",
       "      <td>eddy65</td>\n",
       "      <td>Eddy McAllister</td>\n",
       "      <td>NaN</td>\n",
       "      <td>...</td>\n",
       "      <td>NaN</td>\n",
       "      <td>NaN</td>\n",
       "      <td>NaN</td>\n",
       "      <td>NaN</td>\n",
       "      <td>NaN</td>\n",
       "      <td>[]</td>\n",
       "      <td>NaN</td>\n",
       "      <td>NaN</td>\n",
       "      <td>NaN</td>\n",
       "      <td>NaN</td>\n",
       "    </tr>\n",
       "    <tr>\n",
       "      <th>1</th>\n",
       "      <td>1.270143e+18</td>\n",
       "      <td>1.270143e+18</td>\n",
       "      <td>2020-06-08 16:57:05 Pacific Daylight Time</td>\n",
       "      <td>2020-06-08</td>\n",
       "      <td>16:57:05</td>\n",
       "      <td>-800.0</td>\n",
       "      <td>2.233219e+07</td>\n",
       "      <td>bconversant</td>\n",
       "      <td>barrie</td>\n",
       "      <td>NaN</td>\n",
       "      <td>...</td>\n",
       "      <td>NaN</td>\n",
       "      <td>NaN</td>\n",
       "      <td>NaN</td>\n",
       "      <td>NaN</td>\n",
       "      <td>NaN</td>\n",
       "      <td>[]</td>\n",
       "      <td>NaN</td>\n",
       "      <td>NaN</td>\n",
       "      <td>NaN</td>\n",
       "      <td>NaN</td>\n",
       "    </tr>\n",
       "    <tr>\n",
       "      <th>2</th>\n",
       "      <td>1.270141e+18</td>\n",
       "      <td>1.270141e+18</td>\n",
       "      <td>2020-06-08 16:49:56 Pacific Daylight Time</td>\n",
       "      <td>2020-06-08</td>\n",
       "      <td>16:49:56</td>\n",
       "      <td>-800.0</td>\n",
       "      <td>1.093907e+18</td>\n",
       "      <td>scommies</td>\n",
       "      <td>Trump WON - Election Was Stolen - Get on Gab</td>\n",
       "      <td>NaN</td>\n",
       "      <td>...</td>\n",
       "      <td>NaN</td>\n",
       "      <td>NaN</td>\n",
       "      <td>NaN</td>\n",
       "      <td>NaN</td>\n",
       "      <td>NaN</td>\n",
       "      <td>[]</td>\n",
       "      <td>NaN</td>\n",
       "      <td>NaN</td>\n",
       "      <td>NaN</td>\n",
       "      <td>NaN</td>\n",
       "    </tr>\n",
       "    <tr>\n",
       "      <th>3</th>\n",
       "      <td>1.270140e+18</td>\n",
       "      <td>1.268253e+18</td>\n",
       "      <td>2020-06-08 16:46:32 Pacific Daylight Time</td>\n",
       "      <td>2020-06-08</td>\n",
       "      <td>16:46:32</td>\n",
       "      <td>-800.0</td>\n",
       "      <td>1.162271e+09</td>\n",
       "      <td>k11tech</td>\n",
       "      <td>billy</td>\n",
       "      <td>NaN</td>\n",
       "      <td>...</td>\n",
       "      <td>NaN</td>\n",
       "      <td>NaN</td>\n",
       "      <td>NaN</td>\n",
       "      <td>NaN</td>\n",
       "      <td>NaN</td>\n",
       "      <td>[]</td>\n",
       "      <td>NaN</td>\n",
       "      <td>NaN</td>\n",
       "      <td>NaN</td>\n",
       "      <td>NaN</td>\n",
       "    </tr>\n",
       "    <tr>\n",
       "      <th>4</th>\n",
       "      <td>1.270139e+18</td>\n",
       "      <td>1.270139e+18</td>\n",
       "      <td>2020-06-08 16:42:48 Pacific Daylight Time</td>\n",
       "      <td>2020-06-08</td>\n",
       "      <td>16:42:48</td>\n",
       "      <td>-800.0</td>\n",
       "      <td>1.215595e+18</td>\n",
       "      <td>bigbyebooks</td>\n",
       "      <td>Bigby Wolf @ BLM and ACAB</td>\n",
       "      <td>NaN</td>\n",
       "      <td>...</td>\n",
       "      <td>NaN</td>\n",
       "      <td>NaN</td>\n",
       "      <td>NaN</td>\n",
       "      <td>NaN</td>\n",
       "      <td>NaN</td>\n",
       "      <td>[]</td>\n",
       "      <td>NaN</td>\n",
       "      <td>NaN</td>\n",
       "      <td>NaN</td>\n",
       "      <td>NaN</td>\n",
       "    </tr>\n",
       "  </tbody>\n",
       "</table>\n",
       "<p>5 rows × 36 columns</p>\n",
       "</div>"
      ],
      "text/plain": [
       "             id  conversation_id                                 created_at  \\\n",
       "0  1.270143e+18     1.270143e+18  2020-06-08 16:59:28 Pacific Daylight Time   \n",
       "1  1.270143e+18     1.270143e+18  2020-06-08 16:57:05 Pacific Daylight Time   \n",
       "2  1.270141e+18     1.270141e+18  2020-06-08 16:49:56 Pacific Daylight Time   \n",
       "3  1.270140e+18     1.268253e+18  2020-06-08 16:46:32 Pacific Daylight Time   \n",
       "4  1.270139e+18     1.270139e+18  2020-06-08 16:42:48 Pacific Daylight Time   \n",
       "\n",
       "         date      time  timezone       user_id     username  \\\n",
       "0  2020-06-08  16:59:28    -800.0  1.240202e+18       eddy65   \n",
       "1  2020-06-08  16:57:05    -800.0  2.233219e+07  bconversant   \n",
       "2  2020-06-08  16:49:56    -800.0  1.093907e+18     scommies   \n",
       "3  2020-06-08  16:46:32    -800.0  1.162271e+09      k11tech   \n",
       "4  2020-06-08  16:42:48    -800.0  1.215595e+18  bigbyebooks   \n",
       "\n",
       "                                           name place  ... geo source  \\\n",
       "0                               Eddy McAllister   NaN  ... NaN    NaN   \n",
       "1                                        barrie   NaN  ... NaN    NaN   \n",
       "2  Trump WON - Election Was Stolen - Get on Gab   NaN  ... NaN    NaN   \n",
       "3                                         billy   NaN  ... NaN    NaN   \n",
       "4                     Bigby Wolf @ BLM and ACAB   NaN  ... NaN    NaN   \n",
       "\n",
       "  user_rt_id user_rt retweet_id  reply_to  retweet_date  translate trans_src  \\\n",
       "0        NaN     NaN        NaN        []           NaN        NaN       NaN   \n",
       "1        NaN     NaN        NaN        []           NaN        NaN       NaN   \n",
       "2        NaN     NaN        NaN        []           NaN        NaN       NaN   \n",
       "3        NaN     NaN        NaN        []           NaN        NaN       NaN   \n",
       "4        NaN     NaN        NaN        []           NaN        NaN       NaN   \n",
       "\n",
       "  trans_dest  \n",
       "0        NaN  \n",
       "1        NaN  \n",
       "2        NaN  \n",
       "3        NaN  \n",
       "4        NaN  \n",
       "\n",
       "[5 rows x 36 columns]"
      ]
     },
     "execution_count": 8,
     "metadata": {},
     "output_type": "execute_result"
    }
   ],
   "source": [
    "combined.head()"
   ]
  },
  {
   "cell_type": "code",
   "execution_count": 10,
   "metadata": {},
   "outputs": [
    {
     "data": {
      "text/plain": [
       "13875"
      ]
     },
     "execution_count": 10,
     "metadata": {},
     "output_type": "execute_result"
    }
   ],
   "source": [
    "combined.conversation_id.nunique()"
   ]
  },
  {
   "cell_type": "code",
   "execution_count": 19,
   "metadata": {},
   "outputs": [
    {
     "data": {
      "text/plain": [
       "89259"
      ]
     },
     "execution_count": 19,
     "metadata": {},
     "output_type": "execute_result"
    }
   ],
   "source": [
    "len(combined)"
   ]
  },
  {
   "cell_type": "code",
   "execution_count": null,
   "metadata": {},
   "outputs": [],
   "source": []
  }
 ],
 "metadata": {
  "kernelspec": {
   "display_name": "Python 3",
   "language": "python",
   "name": "python3"
  },
  "language_info": {
   "codemirror_mode": {
    "name": "ipython",
    "version": 3
   },
   "file_extension": ".py",
   "mimetype": "text/x-python",
   "name": "python",
   "nbconvert_exporter": "python",
   "pygments_lexer": "ipython3",
   "version": "3.7.4"
  }
 },
 "nbformat": 4,
 "nbformat_minor": 2
}
